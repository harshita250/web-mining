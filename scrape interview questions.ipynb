{
 "cells": [
  {
   "cell_type": "code",
   "execution_count": 1,
   "id": "a4b92b18",
   "metadata": {},
   "outputs": [],
   "source": [
    "# !pip install selenium\n",
    "from selenium import webdriver\n",
    "from selenium.webdriver.common.by import By\n",
    "import requests\n",
    "from bs4 import BeautifulSoup\n",
    "import pandas as pd\n",
    "pd.set_option('display.max_colwidth', None)\n",
    "from IPython.core.interactiveshell import InteractiveShell\n",
    "InteractiveShell.ast_node_interactivity = \"all\"\n",
    "import time\n",
    "from selenium.webdriver.support.ui import WebDriverWait\n",
    "from selenium.webdriver.support import expected_conditions as EC"
   ]
  },
  {
   "cell_type": "code",
   "execution_count": 26,
   "id": "f35069ce",
   "metadata": {},
   "outputs": [
    {
     "name": "stdout",
     "output_type": "stream",
     "text": [
      "Tell me about a time when you designed a research study\n",
      "Tell me about yourself? Tell me about a previous research? What was your insights?\n",
      "How would you design a system like twitter\n",
      "Please introduce yourself and go through your resume\n",
      "Why would you like to join us?\n",
      "SQL case, gave some hypothetical scenario, asked to code\n",
      "NDA but relatively easy and straightforward compared to other 'big' tech orgs.\n",
      "Tell me a bit about yourself. Tech stack. Very basic and standard questions.\n",
      "Draw a diagram of the full tech stack for a recent product you worked on.\n",
      "build app in vanilla JS, HTML, CSS leetcode top 3 question for Spotify system design of frontend\n"
     ]
    }
   ],
   "source": [
    "driver = webdriver.Safari()\n",
    "\n",
    "url = \"https://www.glassdoor.com/Interview/Spotify-Interview-Questions-E408251.htm\"\n",
    "driver.get(url)\n",
    "\n",
    "base_xpath = \"//*[@id='EmployerInterviews']/div[3]\"\n",
    "interview_questions = driver.find_elements(By.XPATH, f\"{base_xpath}/*/div[1]/div[2]/div[3]/div[2]/ul/li/span\")\n",
    "\n",
    "# Extract and print the interview questions\n",
    "for question in interview_questions:\n",
    "    print(question.text)\n",
    "\n",
    "# Close the browser window\n",
    "driver.quit()\n",
    "\n",
    "\n",
    "#Safari does not support the direct setting of private browsing mode through Selenium."
   ]
  }
 ],
 "metadata": {
  "kernelspec": {
   "display_name": "Python 3 (ipykernel)",
   "language": "python",
   "name": "python3"
  },
  "language_info": {
   "codemirror_mode": {
    "name": "ipython",
    "version": 3
   },
   "file_extension": ".py",
   "mimetype": "text/x-python",
   "name": "python",
   "nbconvert_exporter": "python",
   "pygments_lexer": "ipython3",
   "version": "3.11.4"
  }
 },
 "nbformat": 4,
 "nbformat_minor": 5
}
