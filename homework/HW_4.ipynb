{
 "cells": [
  {
   "cell_type": "markdown",
   "metadata": {},
   "source": [
    "# <Center> HW 4: Classification </center>"
   ]
  },
  {
   "cell_type": "markdown",
   "metadata": {},
   "source": [
    "<div class=\"alert alert-block alert-warning\">Each assignment needs to be completed independently. Never ever copy others' work (even with minor modification, e.g. changing variable names). Anti-Plagiarism software will be used to check all submissions. </div>"
   ]
  },
  {
   "cell_type": "markdown",
   "metadata": {},
   "source": [
    "In this assignment, we use classification to identify public's concerns towards vaccines. This assignment needs the following two data files, which are created from https://www.kaggle.com/datasets/prox37/twitter-multilabel-classification-dataset/data:\n",
    "- hw4_train.csv: dataset for training\n",
    "- hw4_test.csv: dataset for testing\n",
    "    \n",
    "The dataset can be loaded as follows.\n",
    "\n",
    "Note, this is `multi-label classification` problem. The `labels` column may contains multiple labels, separated by space. For example, `ineffective side-effect` indicates there are two labels: `ineffective` and `side-effect`"
   ]
  },
  {
   "cell_type": "code",
   "execution_count": 1,
   "metadata": {
    "ExecuteTime": {
     "end_time": "2021-11-09T06:20:27.665702Z",
     "start_time": "2021-11-09T06:20:26.378160Z"
    }
   },
   "outputs": [],
   "source": [
    "import pandas as pd\n",
    "import numpy as np\n",
    "from IPython.core.interactiveshell import InteractiveShell\n",
    "\n",
    "pd.options.display.float_format = \"{:,.4f}\".format\n",
    "InteractiveShell.ast_node_interactivity = \"all\"\n",
    "np.random.seed(2021)"
   ]
  },
  {
   "cell_type": "code",
   "execution_count": 3,
   "metadata": {
    "ExecuteTime": {
     "end_time": "2021-11-09T06:20:27.703703Z",
     "start_time": "2021-11-09T06:20:27.667704Z"
    }
   },
   "outputs": [
    {
     "data": {
      "text/html": [
       "<div>\n",
       "<style scoped>\n",
       "    .dataframe tbody tr th:only-of-type {\n",
       "        vertical-align: middle;\n",
       "    }\n",
       "\n",
       "    .dataframe tbody tr th {\n",
       "        vertical-align: top;\n",
       "    }\n",
       "\n",
       "    .dataframe thead th {\n",
       "        text-align: right;\n",
       "    }\n",
       "</style>\n",
       "<table border=\"1\" class=\"dataframe\">\n",
       "  <thead>\n",
       "    <tr style=\"text-align: right;\">\n",
       "      <th></th>\n",
       "      <th>tweet</th>\n",
       "      <th>labels</th>\n",
       "    </tr>\n",
       "  </thead>\n",
       "  <tbody>\n",
       "    <tr>\n",
       "      <th>0</th>\n",
       "      <td>Moderna now openly running vaccine experiments...</td>\n",
       "      <td>rushed</td>\n",
       "    </tr>\n",
       "    <tr>\n",
       "      <th>1</th>\n",
       "      <td>Crimes of Covid Vaccine Maker Pfizer Documente...</td>\n",
       "      <td>side-effect pharma</td>\n",
       "    </tr>\n",
       "    <tr>\n",
       "      <th>2</th>\n",
       "      <td>@Carlygrishamm They’re already saying that som...</td>\n",
       "      <td>side-effect</td>\n",
       "    </tr>\n",
       "  </tbody>\n",
       "</table>\n",
       "</div>"
      ],
      "text/plain": [
       "                                               tweet              labels\n",
       "0  Moderna now openly running vaccine experiments...              rushed\n",
       "1  Crimes of Covid Vaccine Maker Pfizer Documente...  side-effect pharma\n",
       "2  @Carlygrishamm They’re already saying that som...         side-effect"
      ]
     },
     "execution_count": 3,
     "metadata": {},
     "output_type": "execute_result"
    },
    {
     "data": {
      "text/html": [
       "<div>\n",
       "<style scoped>\n",
       "    .dataframe tbody tr th:only-of-type {\n",
       "        vertical-align: middle;\n",
       "    }\n",
       "\n",
       "    .dataframe tbody tr th {\n",
       "        vertical-align: top;\n",
       "    }\n",
       "\n",
       "    .dataframe thead th {\n",
       "        text-align: right;\n",
       "    }\n",
       "</style>\n",
       "<table border=\"1\" class=\"dataframe\">\n",
       "  <thead>\n",
       "    <tr style=\"text-align: right;\">\n",
       "      <th></th>\n",
       "      <th>tweet</th>\n",
       "      <th>labels</th>\n",
       "    </tr>\n",
       "  </thead>\n",
       "  <tbody>\n",
       "    <tr>\n",
       "      <th>0</th>\n",
       "      <td>Austria suspends AstraZeneca/Oxford vaccine af...</td>\n",
       "      <td>side-effect</td>\n",
       "    </tr>\n",
       "    <tr>\n",
       "      <th>1</th>\n",
       "      <td>@cmyeaton @HotlineJosh Vaccines do a good job ...</td>\n",
       "      <td>ineffective side-effect</td>\n",
       "    </tr>\n",
       "    <tr>\n",
       "      <th>2</th>\n",
       "      <td>@gbriz11 @BuschGardens Flu vaccines are only 4...</td>\n",
       "      <td>ineffective</td>\n",
       "    </tr>\n",
       "  </tbody>\n",
       "</table>\n",
       "</div>"
      ],
      "text/plain": [
       "                                               tweet                   labels\n",
       "0  Austria suspends AstraZeneca/Oxford vaccine af...              side-effect\n",
       "1  @cmyeaton @HotlineJosh Vaccines do a good job ...  ineffective side-effect\n",
       "2  @gbriz11 @BuschGardens Flu vaccines are only 4...              ineffective"
      ]
     },
     "execution_count": 3,
     "metadata": {},
     "output_type": "execute_result"
    }
   ],
   "source": [
    "train = pd.read_csv(\"hw4_train.csv\")\n",
    "train.head(3)\n",
    "train_x,train_y = train['tweet'],train['labels']\n",
    "test = pd.read_csv(\"hw4_test.csv\")\n",
    "test_x,test_y = test['tweet'],test['labels']\n",
    "test.head(3)"
   ]
  },
  {
   "cell_type": "markdown",
   "metadata": {},
   "source": [
    "## Q1 Multilabel text classification "
   ]
  },
  {
   "cell_type": "markdown",
   "metadata": {},
   "source": [
    "**(Q1.1.)** Define a function `classify(train_x, train_y, test_x, test_y, model = LinearSVC(), binary=False, ngrams = (1,1), stop_words='english', min_df=1, pos_class = 'side-effect',show_plots=True)`, where\n",
    "\n",
    "\n",
    "- `train_x`: is a list of documents for training.\n",
    "- `train_y`: is the ground-truth labels of training documents.\n",
    "- `test_x`: is a list of documents for test.\n",
    "- `test_y`: is the ground-truth labels of test documents.\n",
    "- `model`: the name of classification algorithm. The default value is `LinearSVC()`.\n",
    "- `binary`: if true, within a document, the term frequency of a word is binarized to 1 if present and 0 otherwise. If False, the regular term frequency is considered. The default is False.\n",
    "- `ngrams`: an option to include unigrams, bigrams, ..., nth grams. The default is (1,1), i.e., only unigrams used.\n",
    "- `stop_words`: indicate whether stop words should be removed. The default value is 'english', i.e. remove English stopwords.\n",
    "- `min_df`: only tokens with document frequency above this threshold can be included. The default is 1.\n",
    "- `pos_class`: the class you choose to print out ROC and PRC plots. The default value is `side-effect`.\n",
    "- `show_plots`: controls whether to show classification report AND plots. The default is False.\n",
    "\n",
    "\n",
    "This function does the following:\n",
    "- Process `train_y` and `test_y` to get binarized dummies for each label\n",
    "- Create a pipeline to include\n",
    "    - a `TfidfVectorizer` using `train_x` with options `stop_words, min_df, ngrams, binary` as specified in the function inputs. Extract features from `train_x` using the fitted `TfidfVectorizer`.\n",
    "    - a one-vs-the-rest classifier wrapper on top of the specified `model`. \n",
    "- Fit the pipeline using the extracted features from `train_x` and labels from `train_y`.\n",
    "- Transform `test_x` by the fitted `TfidfVectorizer` (hint: use function `transform` not `fit_transform`).\n",
    "- Predict the labels for `test_x` with trained model.\n",
    "- Print the classification report\n",
    "- If `show_plots` is True,\n",
    "    - Plot the AUC score and PRC score (or Average Precision) for the class `pos_class` on the test dataset. On the plot, specify xlabel, ylabel on axis, and the scoring metrics (AUC/PRC/Average Precision) on the title.\n",
    "    - Note, if the model is 'svm', please use `decision_function` for AUC/PRC calculation. The details can be found at https://scikit-learn.org/stable/modules/generated/sklearn.svm.LinearSVC.html#sklearn.svm.LinearSVC.decision_function.\n",
    "- Return the trained pipeline.\n",
    "    \n",
    "\n"
   ]
  },
  {
   "cell_type": "markdown",
   "metadata": {},
   "source": [
    "**(Q1.2.)** Test your function with following cases:\n",
    "- `stop_words = 'english', binary = False, model = LinearSVC(), pos_class = 'side-effect', show_plots = True`\n",
    "- `stop_words = 'english', binary = False, model = LinearSVC(),pos_class = 'conspiracy', show_plots = True`\n",
    "\n",
    "\n",
    "**Analysis**:\n",
    "- Both should have over 85 AUC scores. However, `side-effect` class has over 80% PRC score while the PRC score for `conspiracy` is below 50%.\n",
    "- Explain why these two classes have similar AUC scores but dramatically different PRC scores\n",
    "- Which metric do you think is more reliable? Why?"
   ]
  },
  {
   "cell_type": "markdown",
   "metadata": {},
   "source": [
    "**(Q1.3.) Bonus**: Redo Q1.1 and Q1.2 to use `Naive Bayes` algorithm. Answer the following question:\n",
    "\n",
    "\n",
    "- How does `Naive Bayes` perform on this dataset?\n",
    "- Please explain the performance of this model analytically, i.e., why is its performance good or bad?\n",
    "\n",
    "\n",
    "Note, you may need to modify the function slightly, since `Naive Bayes` does not have `decision_function` but `predict_prob` function"
   ]
  },
  {
   "cell_type": "code",
   "execution_count": 90,
   "metadata": {
    "ExecuteTime": {
     "end_time": "2021-11-09T06:20:27.717704Z",
     "start_time": "2021-11-09T06:20:27.705706Z"
    }
   },
   "outputs": [],
   "source": [
    "def classify(train_x, train_y, test_x, test_y, \\\n",
    "            binary=False, ngrams = (1,1), \\\n",
    "            stop_words='english', min_df=1, \\\n",
    "            pos_class = 'side-effect',\n",
    "            model = LinearSVC(),\n",
    "            show_plots=True):\n",
    "    \n",
    "    classifier = None\n",
    "    \n",
    "    # add your code\n",
    "\n",
    "    return classifier\n",
    "    #return  clf, tfidf_vect"
   ]
  },
  {
   "cell_type": "code",
   "execution_count": 93,
   "metadata": {},
   "outputs": [
    {
     "name": "stderr",
     "output_type": "stream",
     "text": [
      "/Users/rliu20/miniconda3/envs/pytorch/lib/python3.10/site-packages/sklearn/metrics/_classification.py:1344: UndefinedMetricWarning: Precision and F-score are ill-defined and being set to 0.0 in samples with no predicted labels. Use `zero_division` parameter to control this behavior.\n",
      "  _warn_prf(average, modifier, msg_start, len(result))\n"
     ]
    },
    {
     "name": "stdout",
     "output_type": "stream",
     "text": [
      "              precision    recall  f1-score   support\n",
      "\n",
      "  conspiracy       0.76      0.22      0.35       116\n",
      "     country       0.62      0.21      0.31        38\n",
      " ineffective       0.74      0.53      0.62       297\n",
      " ingredients       0.79      0.33      0.46        95\n",
      "   mandatory       0.87      0.50      0.64       145\n",
      "        none       0.56      0.07      0.12       129\n",
      "      pharma       0.73      0.48      0.58       254\n",
      "   political       0.56      0.20      0.30       122\n",
      "   religious       1.00      0.36      0.53        11\n",
      "      rushed       0.79      0.54      0.64       297\n",
      " side-effect       0.82      0.71      0.76       789\n",
      " unnecessary       0.80      0.30      0.44       148\n",
      "\n",
      "   micro avg       0.78      0.50      0.61      2441\n",
      "   macro avg       0.75      0.37      0.48      2441\n",
      "weighted avg       0.77      0.50      0.59      2441\n",
      " samples avg       0.55      0.52      0.52      2441\n",
      "\n"
     ]
    },
    {
     "data": {
      "image/png": "[encoded data removed]",
      "text/plain": [
       "<Figure size 1000x400 with 2 Axes>"
      ]
     },
     "metadata": {},
     "output_type": "display_data"
    },
    {
     "name": "stdout",
     "output_type": "stream",
     "text": [
      "side-effect AUC: 90.12%, PRC: 87.07%\n"
     ]
    }
   ],
   "source": [
    "# Test case 1:\n",
    "\n",
    "classifier = classify(train.tweet, train.labels,\n",
    "         test.tweet, test.labels,\n",
    "         stop_words = 'english', binary = False, min_df = 1,\n",
    "         model = LinearSVC(),\n",
    "         pos_class = 'side-effect',\n",
    "         #model = MultinomialNB(), \n",
    "         #model = XGBClassifier(random_state=42, seed=2, colsample_bytree=0.6, subsample=0.7),\n",
    "         show_plots = True)\n"
   ]
  },
  {
   "cell_type": "code",
   "execution_count": null,
   "metadata": {},
   "outputs": [],
   "source": [
    "# Test case 2:\n",
    "\n",
    "\n",
    "# Your analysis here!"
   ]
  },
  {
   "cell_type": "markdown",
   "metadata": {},
   "source": [
    "### Q2: Search for best parameters (2 points)\n",
    "\n",
    "`Pipeline: 0.3; grid search with proper parameters: 1.0; train model with best parameter: 0.2; discussion: 0.5`\n",
    "\n",
    "From Q1, you may find there are many possible ways to configure parameters. Next, let's use grid search to find the optimal parameters.\n",
    "\n",
    "- Define a function `search_para(docs, y, model = LinearSVC())` where `docs` are training documents, `y` is the ground-truth labels, and `model` is the model you use on top of the one-vs-the-rest classifier wrapper (the default one is SVM).\n",
    "- This function does the following:\n",
    "    - Create a pipleline which integrates `TfidfVectorizer` and the classifier wrapper as in Q1.1. \n",
    "    - Define the parameter ranges as follow: \n",
    "        - `stop_words: [None, 'english']`\n",
    "        - `min_df:[1, 2]`\n",
    "        - `ngram_range:[(1,1), (1,2)]`\n",
    "        - `C: [0.5, 1, 2]`: this is the misclassification penalty of SVM. Hint, assuming the one-vs-the-rest wrapper is named \"cls\", this parameter should be defined as `clf__estimator__C':[0.5,1,2]` in grid search, where `estimator` denotes the SVM model used by the wrapper.\n",
    "    - Set the scoring metric to `f1_macro`. \n",
    "    - Use `GridSearchCV` with `4-fold cross validation` to find the best parameter values based on the training dataset. \n",
    "    - Print the values of the `best` parameters combination. \n",
    "    \n",
    "- Call this function to find `the best parameters combination` for linear SVM model. \n",
    "- Call the function `classify` again to use `the best parameters combination`\n",
    "\n",
    "\n",
    "\n",
    "**Please answer the following**: \n",
    "- Compared with the model in Q1, how is the performance improved on the test dataset?\n",
    "- Why do you think the new parameter values help deceptive comment classification?"
   ]
  },
  {
   "cell_type": "code",
   "execution_count": 79,
   "metadata": {},
   "outputs": [],
   "source": [
    "def search_para(docs, y, model = LinearSVC()):\n",
    "\n",
    "     # add your code here"
   ]
  },
  {
   "cell_type": "code",
   "execution_count": 80,
   "metadata": {},
   "outputs": [
    {
     "name": "stdout",
     "output_type": "stream",
     "text": [
      "clf__estimator__C:\t2\n",
      "tfidf__min_df:\t2\n",
      "tfidf__ngram_range:\t(1, 1)\n",
      "tfidf__stop_words:\tNone\n",
      "best f1 score: 0.476\n"
     ]
    }
   ],
   "source": [
    "search_para(train.tweet, train.labels)"
   ]
  },
  {
   "cell_type": "code",
   "execution_count": null,
   "metadata": {},
   "outputs": [],
   "source": [
    "# Call the classifier again using the best parameters\n",
    "\n"
   ]
  },
  {
   "cell_type": "markdown",
   "metadata": {},
   "source": [
    "**Q3 (Bonus)** Improve the classification performance\n",
    "\n",
    "\n",
    "Apparently, the model does not perform well. Can you find a way to improve the model performance, in particular, for those minority classes? You objective is to improve the maco F1 by at least 5%.\n",
    "\n",
    "\n",
    "Implement your model and explain why your method can improve the performance."
   ]
  },
  {
   "cell_type": "code",
   "execution_count": null,
   "metadata": {},
   "outputs": [],
   "source": []
  }
 ],
 "metadata": {
  "kernelspec": {
   "display_name": "Python 3 (ipykernel)",
   "language": "python",
   "name": "python3"
  },
  "language_info": {
   "codemirror_mode": {
    "name": "ipython",
    "version": 3
   },
   "file_extension": ".py",
   "mimetype": "text/x-python",
   "name": "python",
   "nbconvert_exporter": "python",
   "pygments_lexer": "ipython3",
   "version": "3.11.4"
  },
  "latex_envs": {
   "LaTeX_envs_menu_present": true,
   "autoclose": false,
   "autocomplete": true,
   "bibliofile": "biblio.bib",
   "cite_by": "apalike",
   "current_citInitial": 1,
   "eqLabelWithNumbers": true,
   "eqNumInitial": 1,
   "hotkeys": {
    "equation": "Ctrl-E",
    "itemize": "Ctrl-I"
   },
   "labels_anchors": false,
   "latex_user_defs": false,
   "report_style_numbering": false,
   "user_envs_cfg": false
  },
  "toc": {
   "base_numbering": 1,
   "nav_menu": {},
   "number_sections": true,
   "sideBar": true,
   "skip_h1_title": false,
   "title_cell": "Table of Contents",
   "title_sidebar": "Contents",
   "toc_cell": true,
   "toc_position": {},
   "toc_section_display": true,
   "toc_window_display": false
  }
 },
 "nbformat": 4,
 "nbformat_minor": 4
}
