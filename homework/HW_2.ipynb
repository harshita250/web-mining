{
 "cells": [
  {
   "cell_type": "markdown",
   "metadata": {
    "id": "7Gn7WiJQIdf1"
   },
   "source": [
    "# <center>HW 3: HARSHITA MAHESH HIREMATH </center>"
   ]
  },
  {
   "cell_type": "code",
   "execution_count": 5,
   "metadata": {
    "ExecuteTime": {
     "end_time": "2021-10-05T03:38:37.110340Z",
     "start_time": "2021-10-05T03:38:36.415339Z"
    },
    "colab": {
     "base_uri": "https://localhost:8080/"
    },
    "executionInfo": {
     "elapsed": 3090,
     "status": "ok",
     "timestamp": 1633401197476,
     "user": {
      "displayName": "Jujun Huang",
      "photoUrl": "https://lh3.googleusercontent.com/a-/AOh14GgNyWh73PIyrLChoge6-48wRiswADsKT69qiRC3hA=s64",
      "userId": "07793853201091514295"
     },
     "user_tz": 240
    },
    "id": "kvDT2koHIdf_",
    "outputId": "a344ab39-9f03-45ea-d9b5-7dd15cafba7a"
   },
   "outputs": [],
   "source": [
    "# !pip install selenium\n",
    "from selenium import webdriver\n",
    "from selenium.webdriver.common.by import By\n",
    "import requests\n",
    "from bs4 import BeautifulSoup\n",
    "import pandas as pd\n",
    "pd.set_option('display.max_colwidth', None)\n",
    "from IPython.core.interactiveshell import InteractiveShell\n",
    "InteractiveShell.ast_node_interactivity = \"all\"\n",
    "import time\n",
    "from selenium.webdriver.support.ui import WebDriverWait\n",
    "from selenium.webdriver.support import expected_conditions as EC"
   ]
  },
  {
   "cell_type": "code",
   "execution_count": 6,
   "metadata": {
    "ExecuteTime": {
     "end_time": "2021-10-05T03:38:37.122339Z",
     "start_time": "2021-10-05T03:38:37.112340Z"
    },
    "executionInfo": {
     "elapsed": 97,
     "status": "ok",
     "timestamp": 1633399754239,
     "user": {
      "displayName": "Jujun Huang",
      "photoUrl": "https://lh3.googleusercontent.com/a-/AOh14GgNyWh73PIyrLChoge6-48wRiswADsKT69qiRC3hA=s64",
      "userId": "07793853201091514295"
     },
     "user_tz": 240
    },
    "id": "fY9Ic4nZIdgB"
   },
   "outputs": [],
   "source": [
    "def getProducts(page_url, domain_name):\n",
    "\n",
    "    results = {'name': [],'description':[],'price':[]}  # variable to hold all records\n",
    "    \n",
    "    # Add your code\n",
    "    \n",
    "    driver = webdriver.Safari()\n",
    "    limit = 100\n",
    "\n",
    "    while page_url and limit > 0:\n",
    "        driver.get(page_url)\n",
    "\n",
    "        # Give the page some time to load (you can adjust this as needed)\n",
    "        time.sleep(2)\n",
    "\n",
    "        # Get the page source after waiting\n",
    "        page_source = driver.page_source\n",
    "\n",
    "        soup = BeautifulSoup(page_source, 'html.parser')\n",
    "        products = soup.find_all('div', class_='details clearfix')\n",
    "\n",
    "        for product in products:\n",
    "            tag = product.find('a')\n",
    "            name = tag.get('data-product-title')\n",
    "            description = product.find('span', class_='productDescriptionFull').text.strip()\n",
    "            cta_price = product.find('a', class_='productPrice')\n",
    "            if cta_price:\n",
    "                price_span = cta_price.find('span', class_='currency').find_next('span')\n",
    "                price = '$' + price_span.text\n",
    "            results['name'].append(name)\n",
    "            results['description'].append(description)\n",
    "            results['price'].append(price)\n",
    "            limit -= 1\n",
    "\n",
    "        next_link = soup.find('a', class_='next colorLink')\n",
    "        if next_link:\n",
    "            page_url = domain_name + next_link['href']\n",
    "        else:\n",
    "            page_url = None\n",
    "\n",
    "    driver.quit()\n",
    "    return pd.DataFrame(results)"
   ]
  },
  {
   "cell_type": "code",
   "execution_count": 7,
   "metadata": {
    "ExecuteTime": {
     "end_time": "2021-10-05T03:38:40.475564Z",
     "start_time": "2021-10-05T03:38:40.469567Z"
    },
    "executionInfo": {
     "elapsed": 107,
     "status": "ok",
     "timestamp": 1633400430749,
     "user": {
      "displayName": "Jujun Huang",
      "photoUrl": "https://lh3.googleusercontent.com/a-/AOh14GgNyWh73PIyrLChoge6-48wRiswADsKT69qiRC3hA=s64",
      "userId": "07793853201091514295"
     },
     "user_tz": 240
    },
    "id": "BkC3gy_rIdgH"
   },
   "outputs": [],
   "source": [
    "def getFilteredProducts(driver, page_url, domain_name, category='FlexScan'):\n",
    "    \n",
    "    results = {'name': [], 'description': [], 'price': []}\n",
    "\n",
    "    # Add your code\n",
    "    driver.get(page_url)\n",
    "\n",
    "    # Locate the link in the left panel based on the provided category\n",
    "    category_link = WebDriverWait(driver, 10).until(\n",
    "        EC.presence_of_element_located((By.PARTIAL_LINK_TEXT, category))\n",
    "    )\n",
    "    # Click on the category link\n",
    "    category_link.click()   \n",
    "\n",
    "    time.sleep(2)\n",
    "\n",
    "    while page_url:\n",
    "        page_source = driver.page_source\n",
    "\n",
    "        # Parse the HTML content using BeautifulSoup\n",
    "        soup = BeautifulSoup(page_source, 'html.parser')\n",
    "\n",
    "        # Locate the product elements based on their HTML structure\n",
    "        products = soup.find_all('div', class_='details clearfix')\n",
    "\n",
    "        # Extract and store product information\n",
    "        for product in products:\n",
    "            tag = product.find('a')\n",
    "            name = tag.get('data-product-title')\n",
    "            description = product.find('span', class_='productDescriptionFull').text.strip()\n",
    "            cta_price = product.find('a', class_='productPrice')\n",
    "            if cta_price:\n",
    "                price_span = cta_price.find('span', class_='currency').find_next('span')\n",
    "                price = '$' + price_span.text\n",
    "            results['name'].append(name)\n",
    "            results['description'].append(description)\n",
    "            results['price'].append(price)\n",
    "\n",
    "        next_link = soup.find('a', class_='next colorLink')\n",
    "        if next_link:\n",
    "            page_url = domain_name + next_link['href']\n",
    "        else:\n",
    "            page_url = None\n",
    "\n",
    "\n",
    "    return pd.DataFrame(results)"
   ]
  },
  {
   "cell_type": "code",
   "execution_count": 8,
   "metadata": {
    "ExecuteTime": {
     "end_time": "2021-10-05T03:38:58.298677Z",
     "start_time": "2021-10-05T03:38:49.031016Z"
    },
    "id": "mGx75y2KIdgK",
    "outputId": "95952ac6-1ff5-454f-fee6-448d5dc81218"
   },
   "outputs": [
    {
     "name": "stdout",
     "output_type": "stream",
     "text": [
      "========Test Q1=========\n",
      "100\n",
      "                                                                          name  \\\n",
      "0                                              Legion USB-C 95W AC Adapter(UL)   \n",
      "1                                              ThinkVision MC60 Monitor Webcam   \n",
      "2                                        Mobile Pixels TRIO Max 14\" LCD 2 Pack   \n",
      "3  Apple 27\" Studio Display (Nano-Texture Glass, VESA Mount Adapter) MMYX3LL/A   \n",
      "4                             ViewSonic Used VA951S 19\" 5:4 IPS Monitor VA951S   \n",
      "\n",
      "                                                                                                                                                                                                                                                   description  \\\n",
      "0                              Lenovo USB-C 95W AC Adapter offers fast and efficient charging. It is your perfect replacement or spare power adapter for your Lenovo laptops. Lenovo AC adapters are compact, energy efficient and backed by a 1 year warranty   \n",
      "1  Take your virtual meetings to the next level. The ThinkVision MC60 Monitor Webcam is anintuitive webcam that offers the most stunning video quality—full 1080p resolution designedto fit on your monitor seamlessly. Capture your best perspectives with...   \n",
      "2                                 TRIO is easy to use with a design that simply magnetizes to the back of any laptop as a solution for the working professionals, gamers, stock traders, entrepreneurs, coders, and students just like you - always on the go.   \n",
      "3   Free Express Shipping! Apple 27\" Studio Display (Nano-Texture Glass, VESA Mount Adapter) 27\" Retina LCD Panel, Thunderbolt 3 Input, 5120 x 2880 5K Resolution, 600 cd/m² Brightness, 1.07 Billion Colors, 12MP Ultra Wide Webcam with Center Stage, Six...   \n",
      "4                                                                                                                                                                                         [FACTORY REFURBISHED] - ViewSonic VA951S 19\" 5:4 IPS Monitor -Refurb   \n",
      "\n",
      "       price  \n",
      "0     $59.99  \n",
      "1     $99.99  \n",
      "2    $609.99  \n",
      "3  $1,899.00  \n",
      "4    $109.95  \n",
      "\n",
      "\n",
      "========Test Q2=========\n",
      "                                                                                           name  \\\n",
      "0  Delvcam 9.7\" 3G-SDI & HDMI Monitor with V-Mount Type Battery Plate & Sun Hood DELV-SDI-10-VM   \n",
      "1             Peerless-AV Neptune 55\" 4K UHD HDR Smart IPS LED Outdoor TV (Partial Sun) WPTV553   \n",
      "2             Peerless-AV Neptune 65\" 4K UHD HDR Smart IPS LED Outdoor TV (Partial Sun) WPTV653   \n",
      "\n",
      "                                                                                                                                                                                                                                                       description  \\\n",
      "0          Delvcam's 9.7 3G-SDI & HDMI Monitor with V-Mount Type Battery Plate & Sun Hood features a native 4:3 aspect ratio supports video with resolution up to 1920 x 1080 and displays video with either a 4:3 or 16:9 aspect ratio. It features 1024 x 768...   \n",
      "1  Free Express Shipping! Peerless-AV Neptune 55\" 4K UHD HDR Smart IPS LED Outdoor TV (Partial Sun) 4K UHD 3840 x 2160 LED Panel, HDR10 Compatible, webOS with LG ThinQ AI, 60 Hz Native Refresh Rate, 3 x HDMI & 2 x USB, Wi-Fi & Ethernet Connectivity, Magic...   \n",
      "2   Free Shipping! Peerless-AV Neptune 65\" 4K UHD HDR Smart IPS LED Outdoor TV (Partial Sun) 4K UHD 3840 x 2160 LED Panel, HDR10 Compatible, webOS with LG ThinQ AI, 60 Hz Native Refresh Rate, 3 x HDMI & 2 x USB, Wi-Fi & Ethernet Connectivity, Magic Remote...   \n",
      "\n",
      "       price  \n",
      "0    $679.95  \n",
      "1  $2,299.00  \n",
      "2  $2,999.00  \n"
     ]
    }
   ],
   "source": [
    "# best practice to test your class\n",
    "# if your script is exported as a module,\n",
    "# the following part is ignored\n",
    "# this is equivalent to main() in Java\n",
    "\n",
    "if __name__ == \"__main__\":\n",
    "\n",
    "    print(\"========Test Q1=========\")\n",
    "    domain_name = 'http://www.pricegrabber.com'\n",
    "    page_url = 'http://www.pricegrabber.com/computer-monitors/browse/'\n",
    "\n",
    "    products = getProducts(page_url, domain_name)\n",
    "    print(len(products))\n",
    "    print(products.head(5))\n",
    "\n",
    "    print(\"\\n\")\n",
    "    print(\"========Test Q2=========\")\n",
    "    \n",
    "    driver = webdriver.Safari()\n",
    "    \n",
    "    driver.implicitly_wait(3)  # set implict wait\n",
    "\n",
    "    domain_name = 'http://www.pricegrabber.com'\n",
    "    page_url = 'http://www.pricegrabber.com/computer-monitors/browse/'\n",
    "\n",
    "    products = getFilteredProducts(driver, page_url, domain_name,\n",
    "                                   category ='Sun')\n",
    "\n",
    "    driver.quit()\n",
    "    print(products)"
   ]
  }
 ],
 "metadata": {
  "colab": {
   "name": "HW_3_solution.ipynb",
   "provenance": []
  },
  "kernelspec": {
   "display_name": "Python 3 (ipykernel)",
   "language": "python",
   "name": "python3"
  },
  "language_info": {
   "codemirror_mode": {
    "name": "ipython",
    "version": 3
   },
   "file_extension": ".py",
   "mimetype": "text/x-python",
   "name": "python",
   "nbconvert_exporter": "python",
   "pygments_lexer": "ipython3",
   "version": "3.11.4"
  },
  "latex_envs": {
   "LaTeX_envs_menu_present": true,
   "autoclose": false,
   "autocomplete": true,
   "bibliofile": "biblio.bib",
   "cite_by": "apalike",
   "current_citInitial": 1,
   "eqLabelWithNumbers": true,
   "eqNumInitial": 1,
   "hotkeys": {
    "equation": "Ctrl-E",
    "itemize": "Ctrl-I"
   },
   "labels_anchors": false,
   "latex_user_defs": false,
   "report_style_numbering": false,
   "user_envs_cfg": false
  },
  "toc": {
   "base_numbering": 1,
   "nav_menu": {},
   "number_sections": true,
   "sideBar": true,
   "skip_h1_title": false,
   "title_cell": "Table of Contents",
   "title_sidebar": "Contents",
   "toc_cell": true,
   "toc_position": {},
   "toc_section_display": true,
   "toc_window_display": false
  }
 },
 "nbformat": 4,
 "nbformat_minor": 4
}
