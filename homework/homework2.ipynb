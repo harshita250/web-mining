{
 "cells": [
  {
   "cell_type": "markdown",
   "metadata": {
    "id": "7Gn7WiJQIdf1"
   },
   "source": [
    "# <center>HW 3: Scrape Products </center>"
   ]
  },
  {
   "cell_type": "markdown",
   "metadata": {},
   "source": [
    "<div class=\"alert alert-block alert-warning\">Each assignment needs to be completed independently. Never ever copy others' work (even with minor modification, e.g. changing variable names). Anti-Plagiarism software will be used to check all submissions. </div>"
   ]
  },
  {
   "cell_type": "markdown",
   "metadata": {
    "id": "-B2MXVmBIdf8"
   },
   "source": [
    "- Q1. Write a function `getProducts(page_url, domain_name, limit = 100)` to scrape all **product inforamtion**, including **product description** (see (1) in Figure) and **price** (see (2) in Figure). \n",
    "    * Inputs:\n",
    "        - `page_url`: the starting URL, i.e. 'http://www.pricegrabber.com/computer-monitors/thinkvision/att/247-311765/more/'\n",
    "        - `domain_name`: website domain name, i.e. 'http://www.pricegrabber.com'\n",
    "    * `Output`: \n",
    "        - a DataFrame saved all scraped products with columns [`name`, `description`,`price`]\n",
    "        - For `description`, you need to colllect the `full text with model number`, e.g., `Lenovo ThinkVision T24i-30 23.8\" Monitor 63CFMAR1US`, not the shrinked version (e.g.,`Lenovo ThinkVision T24i-30 23.8\" Monitor ...`). The full text is shown as the value of the attribute `data-product-title`.\n",
    "    * Note:\n",
    "        * If a field, e.g. price, is missing, use `None` to indicate it.\n",
    "        * When you need to scrape the next page, your program should scrape the target of the `next` link (see (3) in Figure) for next page, and then send a request to this target to keep scraping until `next` no longer exist (i.e., all items have been collected). **Don't hardcode the url for the next page in your code**.\n",
    "    \n",
    "    <img src='Q1.png' width='60%'>"
   ]
  },
  {
   "cell_type": "code",
   "execution_count": 59,
   "metadata": {
    "ExecuteTime": {
     "end_time": "2021-10-05T03:38:37.110340Z",
     "start_time": "2021-10-05T03:38:36.415339Z"
    },
    "colab": {
     "base_uri": "https://localhost:8080/"
    },
    "executionInfo": {
     "elapsed": 3090,
     "status": "ok",
     "timestamp": 1633401197476,
     "user": {
      "displayName": "Jujun Huang",
      "photoUrl": "https://lh3.googleusercontent.com/a-/AOh14GgNyWh73PIyrLChoge6-48wRiswADsKT69qiRC3hA=s64",
      "userId": "07793853201091514295"
     },
     "user_tz": 240
    },
    "id": "kvDT2koHIdf_",
    "outputId": "a344ab39-9f03-45ea-d9b5-7dd15cafba7a"
   },
   "outputs": [],
   "source": [
    "# !pip install selenium\n",
    "from selenium.webdriver.chrome.options import Options\n",
    "from selenium import webdriver\n",
    "from selenium.webdriver.common.by import By\n",
    "import requests\n",
    "from bs4 import BeautifulSoup\n",
    "pd.set_option('display.max_colwidth', None)\n",
    "import pandas as pd\n",
    "from IPython.core.interactiveshell import InteractiveShell\n",
    "InteractiveShell.ast_node_interactivity = \"all\"\n"
   ]
  },
  {
   "cell_type": "code",
   "execution_count": 17,
   "metadata": {
    "ExecuteTime": {
     "end_time": "2021-10-05T03:38:37.122339Z",
     "start_time": "2021-10-05T03:38:37.112340Z"
    },
    "executionInfo": {
     "elapsed": 97,
     "status": "ok",
     "timestamp": 1633399754239,
     "user": {
      "displayName": "Jujun Huang",
      "photoUrl": "https://lh3.googleusercontent.com/a-/AOh14GgNyWh73PIyrLChoge6-48wRiswADsKT69qiRC3hA=s64",
      "userId": "07793853201091514295"
     },
     "user_tz": 240
    },
    "id": "fY9Ic4nZIdgB"
   },
   "outputs": [],
   "source": [
    "def getProducts(page_url, domain_name):\n",
    "\n",
    "    results = None  # variable to hold all records\n",
    "    \n",
    "    # Add your code\n",
    "\n",
    "    return results"
   ]
  },
  {
   "cell_type": "code",
   "execution_count": 18,
   "metadata": {
    "ExecuteTime": {
     "end_time": "2021-10-05T03:38:40.466565Z",
     "start_time": "2021-10-05T03:38:37.123339Z"
    },
    "colab": {
     "base_uri": "https://localhost:8080/",
     "height": 275
    },
    "executionInfo": {
     "elapsed": 2775,
     "status": "ok",
     "timestamp": 1633399767696,
     "user": {
      "displayName": "Jujun Huang",
      "photoUrl": "https://lh3.googleusercontent.com/a-/AOh14GgNyWh73PIyrLChoge6-48wRiswADsKT69qiRC3hA=s64",
      "userId": "07793853201091514295"
     },
     "user_tz": 240
    },
    "id": "DfnZFjxEIdgD",
    "outputId": "0cec0d9a-47a0-4f9e-d01c-f9007e5a4931"
   },
   "outputs": [
    {
     "name": "stdout",
     "output_type": "stream",
     "text": [
      "51\n"
     ]
    },
    {
     "data": {
      "text/html": [
       "<div>\n",
       "<style scoped>\n",
       "    .dataframe tbody tr th:only-of-type {\n",
       "        vertical-align: middle;\n",
       "    }\n",
       "\n",
       "    .dataframe tbody tr th {\n",
       "        vertical-align: top;\n",
       "    }\n",
       "\n",
       "    .dataframe thead th {\n",
       "        text-align: right;\n",
       "    }\n",
       "</style>\n",
       "<table border=\"1\" class=\"dataframe\">\n",
       "  <thead>\n",
       "    <tr style=\"text-align: right;\">\n",
       "      <th></th>\n",
       "      <th>name</th>\n",
       "      <th>price</th>\n",
       "    </tr>\n",
       "  </thead>\n",
       "  <tbody>\n",
       "    <tr>\n",
       "      <th>0</th>\n",
       "      <td>ThinkVision 31.5\" Monitor</td>\n",
       "      <td>$399.00</td>\n",
       "    </tr>\n",
       "    <tr>\n",
       "      <th>1</th>\n",
       "      <td>ThinkVision MC50 Monitor WebCam</td>\n",
       "      <td>$59.99</td>\n",
       "    </tr>\n",
       "    <tr>\n",
       "      <th>2</th>\n",
       "      <td>ThinkVision MC60 Monitor Webcam</td>\n",
       "      <td>$54.99</td>\n",
       "    </tr>\n",
       "    <tr>\n",
       "      <th>3</th>\n",
       "      <td>Lenovo ThinkVision T23d-10 22.5\" 16:10 IPS Monitor 61C3MAR6US</td>\n",
       "      <td>$220.00</td>\n",
       "    </tr>\n",
       "    <tr>\n",
       "      <th>4</th>\n",
       "      <td>Lenovo ThinkVision M14 14\" 16:9 Portable IPS/LCD Monitor 61DDUAR6US</td>\n",
       "      <td>$269.99</td>\n",
       "    </tr>\n",
       "  </tbody>\n",
       "</table>\n",
       "</div>"
      ],
      "text/plain": [
       "                                                                  name  \\\n",
       "0                                            ThinkVision 31.5\" Monitor   \n",
       "1                                      ThinkVision MC50 Monitor WebCam   \n",
       "2                                      ThinkVision MC60 Monitor Webcam   \n",
       "3        Lenovo ThinkVision T23d-10 22.5\" 16:10 IPS Monitor 61C3MAR6US   \n",
       "4  Lenovo ThinkVision M14 14\" 16:9 Portable IPS/LCD Monitor 61DDUAR6US   \n",
       "\n",
       "     price  \n",
       "0  $399.00  \n",
       "1   $59.99  \n",
       "2   $54.99  \n",
       "3  $220.00  \n",
       "4  $269.99  "
      ]
     },
     "execution_count": 18,
     "metadata": {},
     "output_type": "execute_result"
    }
   ],
   "source": [
    "domain_name = 'http://www.pricegrabber.com'\n",
    "page_url = 'http://www.pricegrabber.com/computer-monitors/thinkvision/att/247-311765/more/'\n",
    "\n",
    "products = getProducts(page_url, domain_name)\n",
    "print(len(products))\n",
    "products.head(5)"
   ]
  },
  {
   "cell_type": "markdown",
   "metadata": {
    "id": "QpjHfMjzIdgF"
   },
   "source": [
    "Q2 (Bonus). Modify the function you defined in Q1 to scrape the products that are <font color=red>only in specific category</font> shown in the left panel (See image below). Name this new function as `getFilteredProducts(driver, page_url, domain_name, category)`. \n",
    "- Inputs:\n",
    "    - `drive`: a initialized Selenium Drive instance\n",
    "    - `page_url`: the starting URL, i.e. http://www.pricegrabber.com/computer-monitors/browse/\n",
    "    - `domain_name`: website domain name, i.e. http://www.pricegrabber.com\n",
    "    - `category`: any string specified by a user, e.g. 'ThinkVision'.\n",
    "- Outputs: \n",
    "    - the scraped products as in Q1.\n",
    "- Requirements:\n",
    "    - Use Selenium to locate the link on the left panel based on the provided `category` value\n",
    "    - Issue a click on the link\n",
    "    - Collect the products shown on the right panel\n",
    "\n",
    "<img src='Q2.png' width='20%'>"
   ]
  },
  {
   "cell_type": "code",
   "execution_count": 62,
   "metadata": {
    "ExecuteTime": {
     "end_time": "2021-10-05T03:38:40.475564Z",
     "start_time": "2021-10-05T03:38:40.469567Z"
    },
    "executionInfo": {
     "elapsed": 107,
     "status": "ok",
     "timestamp": 1633400430749,
     "user": {
      "displayName": "Jujun Huang",
      "photoUrl": "https://lh3.googleusercontent.com/a-/AOh14GgNyWh73PIyrLChoge6-48wRiswADsKT69qiRC3hA=s64",
      "userId": "07793853201091514295"
     },
     "user_tz": 240
    },
    "id": "BkC3gy_rIdgH"
   },
   "outputs": [],
   "source": [
    "def getFilteredProducts(driver, page_url, domain_name, category='FlexScan'):\n",
    "\n",
    "    products = None\n",
    "    \n",
    "    # Add your code\n",
    "    \n",
    "    return products"
   ]
  },
  {
   "cell_type": "code",
   "execution_count": 63,
   "metadata": {
    "ExecuteTime": {
     "end_time": "2021-10-05T03:38:49.029016Z",
     "start_time": "2021-10-05T03:38:40.477565Z"
    },
    "colab": {
     "base_uri": "https://localhost:8080/",
     "height": 433
    },
    "executionInfo": {
     "elapsed": 121,
     "status": "error",
     "timestamp": 1633401630200,
     "user": {
      "displayName": "Jujun Huang",
      "photoUrl": "https://lh3.googleusercontent.com/a-/AOh14GgNyWh73PIyrLChoge6-48wRiswADsKT69qiRC3hA=s64",
      "userId": "07793853201091514295"
     },
     "user_tz": 240
    },
    "id": "l9H9YUddIdgI",
    "outputId": "7d460033-57a0-4769-d9c3-b06adf5ae345"
   },
   "outputs": [
    {
     "data": {
      "text/html": [
       "<div>\n",
       "<style scoped>\n",
       "    .dataframe tbody tr th:only-of-type {\n",
       "        vertical-align: middle;\n",
       "    }\n",
       "\n",
       "    .dataframe tbody tr th {\n",
       "        vertical-align: top;\n",
       "    }\n",
       "\n",
       "    .dataframe thead th {\n",
       "        text-align: right;\n",
       "    }\n",
       "</style>\n",
       "<table border=\"1\" class=\"dataframe\">\n",
       "  <thead>\n",
       "    <tr style=\"text-align: right;\">\n",
       "      <th></th>\n",
       "      <th>name</th>\n",
       "      <th>price</th>\n",
       "    </tr>\n",
       "  </thead>\n",
       "  <tbody>\n",
       "    <tr>\n",
       "      <th>0</th>\n",
       "      <td>EIZO FlexScan EV3285 31.5\" 16:9 IPS Monitor (Black) EV3285FX-BK</td>\n",
       "      <td>$1,839.00</td>\n",
       "    </tr>\n",
       "    <tr>\n",
       "      <th>1</th>\n",
       "      <td>EIZO FlexScan EV3895FX-BK 37.5\" 24:10 Ultrawide Curved IPS Monitor (Black) EV3895FX-BK</td>\n",
       "      <td>$1,997.00</td>\n",
       "    </tr>\n",
       "    <tr>\n",
       "      <th>2</th>\n",
       "      <td>EIZO FlexScan EV2460FX-BK 23.8\" 16:9 IPS Monitor (Black) EV2460FX-BK</td>\n",
       "      <td>$399.00</td>\n",
       "    </tr>\n",
       "    <tr>\n",
       "      <th>3</th>\n",
       "      <td>EIZO Used FlexScan EV2460FX-BK 23.8\" 16:9 IPS Monitor (Black) EV2460FX-BK</td>\n",
       "      <td>$299.00</td>\n",
       "    </tr>\n",
       "    <tr>\n",
       "      <th>4</th>\n",
       "      <td>EIZO FlexScan S1934 19\" 5:4 Square IPS Monitor S1934H-BK</td>\n",
       "      <td>$329.00</td>\n",
       "    </tr>\n",
       "    <tr>\n",
       "      <th>5</th>\n",
       "      <td>EIZO FlexScan EV2760 27\" 16:9 IPS Monitor with FlexStand (Black) EV2760FX-BK</td>\n",
       "      <td>$989.00</td>\n",
       "    </tr>\n",
       "    <tr>\n",
       "      <th>6</th>\n",
       "      <td>EIZO Used FlexScan EV2795FX-BK 27\" 16:9 Docking IPS Monitor with FlexStand (Black) EV2795FX-BK</td>\n",
       "      <td>$849.00</td>\n",
       "    </tr>\n",
       "    <tr>\n",
       "      <th>7</th>\n",
       "      <td>EIZO Used 27\" FlexScan EV2785 16:9 4K IPS Monitor EV2785FX-BK</td>\n",
       "      <td>$828.50</td>\n",
       "    </tr>\n",
       "    <tr>\n",
       "      <th>8</th>\n",
       "      <td>EIZO Used FlexScan EV3285 31.5\" 16:9 IPS Monitor (Black) EV3285FX-BK</td>\n",
       "      <td>$1,286.95</td>\n",
       "    </tr>\n",
       "  </tbody>\n",
       "</table>\n",
       "</div>"
      ],
      "text/plain": [
       "                                                                                             name  \\\n",
       "0                                 EIZO FlexScan EV3285 31.5\" 16:9 IPS Monitor (Black) EV3285FX-BK   \n",
       "1          EIZO FlexScan EV3895FX-BK 37.5\" 24:10 Ultrawide Curved IPS Monitor (Black) EV3895FX-BK   \n",
       "2                            EIZO FlexScan EV2460FX-BK 23.8\" 16:9 IPS Monitor (Black) EV2460FX-BK   \n",
       "3                       EIZO Used FlexScan EV2460FX-BK 23.8\" 16:9 IPS Monitor (Black) EV2460FX-BK   \n",
       "4                                        EIZO FlexScan S1934 19\" 5:4 Square IPS Monitor S1934H-BK   \n",
       "5                    EIZO FlexScan EV2760 27\" 16:9 IPS Monitor with FlexStand (Black) EV2760FX-BK   \n",
       "6  EIZO Used FlexScan EV2795FX-BK 27\" 16:9 Docking IPS Monitor with FlexStand (Black) EV2795FX-BK   \n",
       "7                                   EIZO Used 27\" FlexScan EV2785 16:9 4K IPS Monitor EV2785FX-BK   \n",
       "8                            EIZO Used FlexScan EV3285 31.5\" 16:9 IPS Monitor (Black) EV3285FX-BK   \n",
       "\n",
       "       price  \n",
       "0  $1,839.00  \n",
       "1  $1,997.00  \n",
       "2    $399.00  \n",
       "3    $299.00  \n",
       "4    $329.00  \n",
       "5    $989.00  \n",
       "6    $849.00  \n",
       "7    $828.50  \n",
       "8  $1,286.95  "
      ]
     },
     "execution_count": 63,
     "metadata": {},
     "output_type": "execute_result"
    },
    {
     "data": {
      "text/html": [
       "<div>\n",
       "<style scoped>\n",
       "    .dataframe tbody tr th:only-of-type {\n",
       "        vertical-align: middle;\n",
       "    }\n",
       "\n",
       "    .dataframe tbody tr th {\n",
       "        vertical-align: top;\n",
       "    }\n",
       "\n",
       "    .dataframe thead th {\n",
       "        text-align: right;\n",
       "    }\n",
       "</style>\n",
       "<table border=\"1\" class=\"dataframe\">\n",
       "  <thead>\n",
       "    <tr style=\"text-align: right;\">\n",
       "      <th></th>\n",
       "      <th>name</th>\n",
       "      <th>price</th>\n",
       "    </tr>\n",
       "  </thead>\n",
       "  <tbody>\n",
       "    <tr>\n",
       "      <th>0</th>\n",
       "      <td>SideTrak 12.5\" Swivel V2 Portable Laptop Monitor STTL12BL</td>\n",
       "      <td>$329.99</td>\n",
       "    </tr>\n",
       "    <tr>\n",
       "      <th>1</th>\n",
       "      <td>SideTrak 12.5\" Swivel V2 Portable LCD Laptop Monitor (2-Pack) STTL12BL-TRI</td>\n",
       "      <td>$649.99</td>\n",
       "    </tr>\n",
       "    <tr>\n",
       "      <th>2</th>\n",
       "      <td>ViewSonic TD2230 22\" 16:9 Multi-Touch IPS Monitor TD2230</td>\n",
       "      <td>$279.99</td>\n",
       "    </tr>\n",
       "    <tr>\n",
       "      <th>3</th>\n",
       "      <td>ViewSonic TD2223 22\" 16:9 10-Point IR Multi-Touch TN Display TD2223</td>\n",
       "      <td>$259.99</td>\n",
       "    </tr>\n",
       "    <tr>\n",
       "      <th>4</th>\n",
       "      <td>Planar Systems PT1545R 15\" 4:3 Resistive Touch Point of Sale LCD Monitor 997-5967-02</td>\n",
       "      <td>$349.00</td>\n",
       "    </tr>\n",
       "    <tr>\n",
       "      <th>5</th>\n",
       "      <td>SideTrak 14\" Swivel V2 Portable Laptop Monitor STTL14BL</td>\n",
       "      <td>$349.99</td>\n",
       "    </tr>\n",
       "    <tr>\n",
       "      <th>6</th>\n",
       "      <td>Planar Systems PT1745P 17\" 5:4 Multi-Touch Point-of-Sale LCD Monitor 997-7414-01</td>\n",
       "      <td>$479.00</td>\n",
       "    </tr>\n",
       "    <tr>\n",
       "      <th>7</th>\n",
       "      <td>Mobile Pixels DUEX Max 14.1\" 1080p Monitor (Gray) DUEXMAXGREY</td>\n",
       "      <td>$329.99</td>\n",
       "    </tr>\n",
       "  </tbody>\n",
       "</table>\n",
       "</div>"
      ],
      "text/plain": [
       "                                                                                   name  \\\n",
       "0                             SideTrak 12.5\" Swivel V2 Portable Laptop Monitor STTL12BL   \n",
       "1            SideTrak 12.5\" Swivel V2 Portable LCD Laptop Monitor (2-Pack) STTL12BL-TRI   \n",
       "2                              ViewSonic TD2230 22\" 16:9 Multi-Touch IPS Monitor TD2230   \n",
       "3                   ViewSonic TD2223 22\" 16:9 10-Point IR Multi-Touch TN Display TD2223   \n",
       "4  Planar Systems PT1545R 15\" 4:3 Resistive Touch Point of Sale LCD Monitor 997-5967-02   \n",
       "5                               SideTrak 14\" Swivel V2 Portable Laptop Monitor STTL14BL   \n",
       "6      Planar Systems PT1745P 17\" 5:4 Multi-Touch Point-of-Sale LCD Monitor 997-7414-01   \n",
       "7                         Mobile Pixels DUEX Max 14.1\" 1080p Monitor (Gray) DUEXMAXGREY   \n",
       "\n",
       "     price  \n",
       "0  $329.99  \n",
       "1  $649.99  \n",
       "2  $279.99  \n",
       "3  $259.99  \n",
       "4  $349.00  \n",
       "5  $349.99  \n",
       "6  $479.00  \n",
       "7  $329.99  "
      ]
     },
     "execution_count": 63,
     "metadata": {},
     "output_type": "execute_result"
    }
   ],
   "source": [
    "\n",
    "executable_path = '../Notes/Web_Scraping/driver/geckodriver'\n",
    "driver = webdriver.Firefox(executable_path=executable_path)\n",
    "\n",
    "driver.implicitly_wait(3)  # set implict wait\n",
    "\n",
    "domain_name = 'http://www.pricegrabber.com'\n",
    "page_url = 'http://www.pricegrabber.com/computer-monitors/browse/'\n",
    "\n",
    "# Be sure to test different categories to \n",
    "# make sure your function can be applied to difference categories\n",
    "products = getFilteredProducts(driver, page_url, domain_name, \n",
    "                               category='FlexScan')\n",
    "products\n",
    "\n",
    "products = getFilteredProducts(driver, page_url, domain_name, \n",
    "                               category='Mac')\n",
    "\n",
    "products\n",
    "driver.quit()\n"
   ]
  },
  {
   "cell_type": "code",
   "execution_count": 64,
   "metadata": {
    "ExecuteTime": {
     "end_time": "2021-10-05T03:38:58.298677Z",
     "start_time": "2021-10-05T03:38:49.031016Z"
    },
    "id": "mGx75y2KIdgK",
    "outputId": "95952ac6-1ff5-454f-fee6-448d5dc81218"
   },
   "outputs": [
    {
     "name": "stdout",
     "output_type": "stream",
     "text": [
      "========Test Q1=========\n",
      "200\n",
      "                                                                                      name  \\\n",
      "0                                                                ThinkVision 31.5\" Monitor   \n",
      "1                                                                  ThinkCentre 27\" Monitor   \n",
      "2                                    Mobile Pixels Kapsule Wireless Bluetooth 360 Speakers   \n",
      "3  Apple 32\" Pro Display XDR 16:9 Retina 6K HDR IPS Display (Nano-Texture Glass) MWPF2LL/A   \n",
      "4           Apple 27\" Studio Display (Nano-Texture Glass, Tilt Adjustable Stand) MMYW3LL/A   \n",
      "\n",
      "       price  \n",
      "0    $399.00  \n",
      "1    $299.00  \n",
      "2    $129.99  \n",
      "3  $5,999.00  \n",
      "4  $1,899.00  \n",
      "\n",
      "\n",
      "========Test Q2=========\n",
      "                                                                                           name  \\\n",
      "0  Delvcam 9.7\" 3G-SDI & HDMI Monitor with V-Mount Type Battery Plate & Sun Hood DELV-SDI-10-VM   \n",
      "1             Peerless-AV Neptune 55\" 4K UHD HDR Smart IPS LED Outdoor TV (Partial Sun) WPTV553   \n",
      "2             Peerless-AV Neptune 65\" 4K UHD HDR Smart IPS LED Outdoor TV (Partial Sun) WPTV653   \n",
      "3             Peerless-AV Neptune 75\" 4K UHD HDR Smart IPS LED Outdoor TV (Partial Sun) WPTV753   \n",
      "4             Peerless-AV Neptune 75\" 4K UHD HDR Smart IPS LED Outdoor TV (Partial Sun) WPTV753   \n",
      "\n",
      "       price  \n",
      "0    $679.95  \n",
      "1  $2,299.00  \n",
      "2  $2,999.00  \n",
      "3  $4,299.00  \n",
      "4  $4,299.00  \n"
     ]
    }
   ],
   "source": [
    "# best practice to test your class\n",
    "# if your script is exported as a module,\n",
    "# the following part is ignored\n",
    "# this is equivalent to main() in Java\n",
    "\n",
    "if __name__ == \"__main__\":\n",
    "\n",
    "    print(\"========Test Q1=========\")\n",
    "    domain_name = 'http://www.pricegrabber.com'\n",
    "    page_url = 'http://www.pricegrabber.com/computer-monitors/browse/'\n",
    "\n",
    "    products = getProducts(page_url, domain_name)\n",
    "    print(len(products))\n",
    "    print(products.head(5))\n",
    "\n",
    "    print(\"\\n\")\n",
    "    print(\"========Test Q2=========\")\n",
    "    \n",
    "    executable_path = '../Notes/Web_Scraping/driver/geckodriver'\n",
    "    driver = webdriver.Firefox(executable_path=executable_path)\n",
    "    \n",
    "    driver.implicitly_wait(3)  # set implict wait\n",
    "\n",
    "    domain_name = 'http://www.pricegrabber.com'\n",
    "    page_url = 'http://www.pricegrabber.com/computer-monitors/browse/'\n",
    "\n",
    "    products = getFilteredProducts(driver, page_url, domain_name,\n",
    "                                   category ='Sun')\n",
    "\n",
    "    driver.quit()\n",
    "    print(products)"
   ]
  },
  {
   "cell_type": "markdown",
   "metadata": {},
   "source": [
    "# Submission guideline\n",
    "\n",
    "1. When you complete your code, please answer all analysis questions as markdowns\n",
    "2. Please generate a pdf file out of the notebook using \"File -> Print\" and print as pdf.\n",
    "3. Then you convert your notedbook into executable .py file using \"File -> Save and Export Notebook As\", and then choose \"Executable Scripts\". A \".py\" file should be generated. \n",
    "4. Open a command or terminal window to run .py file by issuing \"python xx.py\". You should see all printout.\n",
    "5. Upload both the pdf and .py files to Canvas.\n",
    "\n",
    "Good luck!"
   ]
  }
 ],
 "metadata": {
  "colab": {
   "name": "HW_3_solution.ipynb",
   "provenance": []
  },
  "kernelspec": {
   "display_name": "Python 3 (ipykernel)",
   "language": "python",
   "name": "python3"
  },
  "language_info": {
   "codemirror_mode": {
    "name": "ipython",
    "version": 3
   },
   "file_extension": ".py",
   "mimetype": "text/x-python",
   "name": "python",
   "nbconvert_exporter": "python",
   "pygments_lexer": "ipython3",
   "version": "3.11.4"
  },
  "latex_envs": {
   "LaTeX_envs_menu_present": true,
   "autoclose": false,
   "autocomplete": true,
   "bibliofile": "biblio.bib",
   "cite_by": "apalike",
   "current_citInitial": 1,
   "eqLabelWithNumbers": true,
   "eqNumInitial": 1,
   "hotkeys": {
    "equation": "Ctrl-E",
    "itemize": "Ctrl-I"
   },
   "labels_anchors": false,
   "latex_user_defs": false,
   "report_style_numbering": false,
   "user_envs_cfg": false
  },
  "toc": {
   "base_numbering": 1,
   "nav_menu": {},
   "number_sections": true,
   "sideBar": true,
   "skip_h1_title": false,
   "title_cell": "Table of Contents",
   "title_sidebar": "Contents",
   "toc_cell": true,
   "toc_position": {},
   "toc_section_display": true,
   "toc_window_display": false
  }
 },
 "nbformat": 4,
 "nbformat_minor": 4
}
