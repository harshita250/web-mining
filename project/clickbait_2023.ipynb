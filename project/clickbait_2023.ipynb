{
 "cells": [
  {
   "cell_type": "code",
   "execution_count": 2,
   "metadata": {
    "colab": {
     "base_uri": "https://localhost:8080/"
    },
    "id": "AkQ5s5DRXW70",
    "outputId": "35020886-7fe3-46d5-a2c4-316f54442efa"
   },
   "outputs": [
    {
     "data": {
      "text/plain": [
       "True"
      ]
     },
     "execution_count": 2,
     "metadata": {},
     "output_type": "execute_result"
    }
   ],
   "source": [
    "import nltk\n",
    "from nltk.corpus import stopwords\n",
    "from nltk.stem import SnowballStemmer\n",
    "nltk.download('stopwords',quiet=True)\n",
    "nltk.download('punkt',quiet=True)\n",
    "nltk.download('wordnet',quiet=True)"
   ]
  },
  {
   "cell_type": "code",
   "execution_count": 3,
   "metadata": {
    "id": "qo2c0RTubg-1"
   },
   "outputs": [],
   "source": [
    "from nltk.corpus import wordnet"
   ]
  },
  {
   "cell_type": "code",
   "execution_count": 4,
   "metadata": {
    "colab": {
     "base_uri": "https://localhost:8080/"
    },
    "id": "vR0AwWg-bBCA",
    "outputId": "98a8d0ff-14bd-47ff-8867-591084e11cc8"
   },
   "outputs": [
    {
     "data": {
      "text/plain": [
       "True"
      ]
     },
     "execution_count": 4,
     "metadata": {},
     "output_type": "execute_result"
    }
   ],
   "source": [
    "nltk.download('averaged_perceptron_tagger',quiet=True)"
   ]
  },
  {
   "cell_type": "code",
   "execution_count": 19,
   "metadata": {
    "colab": {
     "base_uri": "https://localhost:8080/"
    },
    "id": "78xb_9wdZ3T8",
    "outputId": "5c05fd77-cacf-43e1-9235-2bc86c686456"
   },
   "outputs": [
    {
     "name": "stdout",
     "output_type": "stream",
     "text": [
      "Requirement already satisfied: contractions in /Users/harshitahiremath/anaconda3/lib/python3.11/site-packages (0.1.73)\r\n",
      "Requirement already satisfied: textsearch>=0.0.21 in /Users/harshitahiremath/anaconda3/lib/python3.11/site-packages (from contractions) (0.0.24)\r\n",
      "Requirement already satisfied: anyascii in /Users/harshitahiremath/anaconda3/lib/python3.11/site-packages (from textsearch>=0.0.21->contractions) (0.3.2)\r\n",
      "Requirement already satisfied: pyahocorasick in /Users/harshitahiremath/anaconda3/lib/python3.11/site-packages (from textsearch>=0.0.21->contractions) (2.0.0)\r\n"
     ]
    }
   ],
   "source": [
    "#!pip install contractions"
   ]
  },
  {
   "cell_type": "code",
   "execution_count": 23,
   "metadata": {
    "id": "pSY8EdDvXW95"
   },
   "outputs": [],
   "source": [
    "import csv\n",
    "import pandas as pd\n",
    "# from keras.preprocessing.text import Tokenizer\n",
    "# from keras.preprocessing.sequence import pad_sequences\n",
    "# from keras.models import Sequential\n",
    "# from keras.layers import Dense, Flatten, LSTM, Conv1D, MaxPooling1D, Dropout, Activation\n",
    "# from keras.layers.embeddings import Embedding\n",
    "\n",
    "## Plot\n",
    "# import plotly.offline as py\n",
    "# import plotly.graph_objs as go\n",
    "# py.init_notebook_mode(connected=True)\n",
    "# import matplotlib as plt\n",
    "\n",
    "# NLTK\n",
    "import nltk\n",
    "from nltk.corpus import stopwords\n",
    "from nltk.stem import SnowballStemmer\n",
    "from nltk import word_tokenize\n",
    "\n",
    "\n",
    "\n",
    "# Other\n",
    "import re\n",
    "import string\n",
    "import numpy as np\n",
    "import pandas as pd\n",
    "from sklearn.manifold import TSNE\n",
    "from sklearn import model_selection, preprocessing, linear_model\n",
    "from sklearn.feature_extraction.text import TfidfVectorizer\n",
    "from sklearn import decomposition, ensemble\n",
    "from keras.preprocessing import text, sequence\n",
    "from keras import layers, models, optimizers\n",
    "from sklearn.svm import SVC\n",
    "from keras.models import load_model\n",
    "import pickle\n",
    "# Sampling\n",
    "from imblearn.pipeline import make_pipeline\n",
    "from imblearn.over_sampling import ADASYN, SMOTE, RandomOverSampler\n",
    "\n",
    "import contractions\n",
    "import re, string, unicodedata\n",
    "import nltk\n",
    "import inflect\n",
    "from bs4 import BeautifulSoup\n",
    "from nltk import word_tokenize, sent_tokenize\n",
    "from nltk.corpus import stopwords\n",
    "from nltk.stem import LancasterStemmer, WordNetLemmatizer\n",
    "from sklearn.metrics import classification_report, confusion_matrix\n",
    "from keras.callbacks import ModelCheckpoint, EarlyStopping\n",
    "\n",
    "# #wordcloud\n",
    "# from wordcloud import WordCloud\n",
    "# import matplotlib.pyplot as plt"
   ]
  },
  {
   "cell_type": "code",
   "execution_count": 22,
   "metadata": {},
   "outputs": [
    {
     "name": "stdout",
     "output_type": "stream",
     "text": [
      "Collecting inflect\n",
      "  Obtaining dependency information for inflect from https://files.pythonhosted.org/packages/fb/c6/d9feb758be584f729424390af24687d3a4363d968164f94079f83cd536b4/inflect-7.0.0-py3-none-any.whl.metadata\n",
      "  Downloading inflect-7.0.0-py3-none-any.whl.metadata (21 kB)\n",
      "Requirement already satisfied: pydantic>=1.9.1 in /Users/harshitahiremath/anaconda3/lib/python3.11/site-packages (from inflect) (1.10.12)\n",
      "Requirement already satisfied: typing-extensions in /Users/harshitahiremath/anaconda3/lib/python3.11/site-packages (from inflect) (4.7.1)\n",
      "Downloading inflect-7.0.0-py3-none-any.whl (34 kB)\n",
      "Installing collected packages: inflect\n",
      "Successfully installed inflect-7.0.0\n"
     ]
    }
   ],
   "source": [
    "!pip install inflect"
   ]
  },
  {
   "cell_type": "code",
   "execution_count": null,
   "metadata": {
    "id": "cy5RmoGHQ4vt"
   },
   "outputs": [],
   "source": [
    "# The code starts by importing necessary libraries, setting up Google Drive, and downloading required NLTK resources.\n",
    "# It then imports additional libraries for text processing, machine learning, and handling imbalanced datasets.\n",
    "# The read_bias_data function is defined to read bias data from two CSV files, drop unnecessary columns, and concatenate relevant text columns."
   ]
  },
  {
   "cell_type": "code",
   "execution_count": null,
   "metadata": {
    "id": "op1_m0IkQ9LO"
   },
   "outputs": [],
   "source": [
    "# The label_encode function is defined to encode bias labels with numerical values for machine learning models."
   ]
  },
  {
   "cell_type": "code",
   "execution_count": 24,
   "metadata": {
    "id": "VyO0_Xe0XW_-"
   },
   "outputs": [],
   "source": [
    "def read_bias_data(f1, f2):\n",
    "  cols=[\"title\", \"text\", \"sen_obj\", \"source\", \"bias\"]\n",
    "  df = pd.read_csv(f1, skiprows=1, dtype=str, names=cols)\n",
    "  tdf = pd.read_csv(f2, skiprows=1, dtype=str, names=cols)\n",
    "  df=df.drop([\"sen_obj\"], 1)\n",
    "  tdf=tdf.drop([\"sen_obj\"], 1)\n",
    "  df[\"all\"]=df.source + \" \" + df.title + \" \"+ df.text\n",
    "  tdf[\"all\"]=tdf.source + \" \" + tdf.title + \" \"+ tdf.text\n",
    "  df=df.dropna()\n",
    "  tdf=tdf.dropna()\n",
    "  return df, tdf\n",
    "\n",
    "def label_encode(df, tdf):\n",
    "  tdf[\"bias\"]= tdf[\"bias\"].replace(\"lc\", 1)\n",
    "  tdf[\"bias\"]= tdf[\"bias\"].replace(\"rc\", 2)\n",
    "  tdf[\"bias\"]= tdf[\"bias\"].replace(\"left\", 1)\n",
    "  tdf[\"bias\"]= tdf[\"bias\"].replace(\"right\", 2)\n",
    "  tdf[\"bias\"]= tdf[\"bias\"].replace(\"least-biased\",0)\n",
    "  df[\"bias\"]= df[\"bias\"].replace(\"1\", 1)\n",
    "  df[\"bias\"]= df[\"bias\"].replace(\"2\", 2)\n",
    "  df[\"bias\"]= df[\"bias\"].replace(\"0\", 0)\n",
    "  return df, tdf\n",
    "\n",
    "def get_wordnet_pos(word):\n",
    "    \"\"\"Map POS tag to first character lemmatize() accepts\"\"\"\n",
    "    tag = nltk.pos_tag([word])[0][1][0].upper()\n",
    "    tag_dict = {\"J\": wordnet.ADJ,\n",
    "                \"N\": wordnet.NOUN,\n",
    "                \"V\": wordnet.VERB,\n",
    "                \"R\": wordnet.ADV}\n",
    "    return tag_dict.get(tag, wordnet.NOUN)  # Use get() with a default value\n",
    "\n"
   ]
  },
  {
   "cell_type": "code",
   "execution_count": null,
   "metadata": {
    "id": "P0iYpublRAev"
   },
   "outputs": [],
   "source": [
    "# Two functions, get_wordnet_pos and clean_text, are defined for part-of-speech tagging and text cleaning."
   ]
  },
  {
   "cell_type": "code",
   "execution_count": 25,
   "metadata": {
    "id": "zbP-v3eIXXCY"
   },
   "outputs": [],
   "source": [
    "def clean_text(text):\n",
    "    # Convert to lowercase\n",
    "    text = text.lower()\n",
    "\n",
    "    # Remove punctuation\n",
    "    text = re.sub(r'[^\\w\\s]', '', text)\n",
    "\n",
    "    # Remove digits\n",
    "    text = re.sub(r'\\d', '', text)\n",
    "\n",
    "    # Remove stop words\n",
    "    stops = set(stopwords.words(\"english\"))\n",
    "    text = ' '.join([word for word in word_tokenize(text) if word.lower() not in stops])\n",
    "\n",
    "    # Use BeautifulSoup to handle HTML entities\n",
    "    text = BeautifulSoup(text, \"html.parser\").get_text()\n",
    "\n",
    "    # Fix contractions\n",
    "    text = contractions.fix(text)\n",
    "\n",
    "    # Handle specific contractions and substitutions\n",
    "    text = re.sub(r\"what's\", \"what is \", text)\n",
    "    text = re.sub(r\"\\'s\", \" \", text)\n",
    "    text = re.sub(r\"\\\\n\", \" \", text)\n",
    "    text = re.sub(r\"\\'ve\", \" have \", text)\n",
    "    text = re.sub(r\"n't\", \" not \", text)\n",
    "    text = re.sub(r\"i'm\", \"i am \", text)\n",
    "    text = re.sub(r\"\\'re\", \" are \", text)\n",
    "    text = re.sub(r\"\\'d\", \" would \", text)\n",
    "    text = re.sub(r\"\\'ll\", \" will \", text)\n",
    "\n",
    "    # Lemmatize the words\n",
    "    lemmatizer = WordNetLemmatizer()\n",
    "    lemmed_words = [lemmatizer.lemmatize(word, get_wordnet_pos(word)) for word in word_tokenize(text)]\n",
    "    text = \" \".join(lemmed_words)\n",
    "\n",
    "    return text\n"
   ]
  },
  {
   "cell_type": "code",
   "execution_count": 26,
   "metadata": {
    "id": "-mDE1zhOXXEY"
   },
   "outputs": [],
   "source": [
    "# def read_clickbait_data(data):\n",
    "#   # clickbait_data = pd.read_json(open(fi, \"r\", encoding=\"utf8\"), lines=True)\n",
    "#   # clickbait_data1 = pd.read_json(open(ft, \"r\", encoding=\"utf8\"), lines=True)\n",
    "#   # data = pd.merge(clickbait_data, clickbait_data1, on = 'id')\n",
    "#   labels = data.truthClass.map(lambda x : 1 if x=='clickbait' else 0)\n",
    "#   df = pd.DataFrame({'label':labels, 'text':data.postText})\n",
    "#   df['text'] = df['text'].apply(lambda x: ','.join(map(str, x)))\n",
    "#   return df"
   ]
  },
  {
   "cell_type": "code",
   "execution_count": 27,
   "metadata": {
    "id": "KZDm-Xi3emcZ"
   },
   "outputs": [],
   "source": [
    "df = pd.read_csv('clickbait_training.csv')"
   ]
  },
  {
   "cell_type": "code",
   "execution_count": 28,
   "metadata": {
    "colab": {
     "base_uri": "https://localhost:8080/",
     "height": 424
    },
    "id": "nuIcmRFUaAh5",
    "outputId": "f0a2abd7-8608-4646-c986-54c975d1493e"
   },
   "outputs": [
    {
     "data": {
      "text/html": [
       "<div>\n",
       "<style scoped>\n",
       "    .dataframe tbody tr th:only-of-type {\n",
       "        vertical-align: middle;\n",
       "    }\n",
       "\n",
       "    .dataframe tbody tr th {\n",
       "        vertical-align: top;\n",
       "    }\n",
       "\n",
       "    .dataframe thead th {\n",
       "        text-align: right;\n",
       "    }\n",
       "</style>\n",
       "<table border=\"1\" class=\"dataframe\">\n",
       "  <thead>\n",
       "    <tr style=\"text-align: right;\">\n",
       "      <th></th>\n",
       "      <th>label</th>\n",
       "      <th>text</th>\n",
       "    </tr>\n",
       "  </thead>\n",
       "  <tbody>\n",
       "    <tr>\n",
       "      <th>0</th>\n",
       "      <td>0</td>\n",
       "      <td>Apple's iOS 9 'App thinning' feature will give...</td>\n",
       "    </tr>\n",
       "    <tr>\n",
       "      <th>1</th>\n",
       "      <td>0</td>\n",
       "      <td>RT @kenbrown12: Emerging market investors are ...</td>\n",
       "    </tr>\n",
       "    <tr>\n",
       "      <th>2</th>\n",
       "      <td>1</td>\n",
       "      <td>U.S. Soccer should start answering tough quest...</td>\n",
       "    </tr>\n",
       "    <tr>\n",
       "      <th>3</th>\n",
       "      <td>0</td>\n",
       "      <td>How theme parks like Disney World left the mid...</td>\n",
       "    </tr>\n",
       "    <tr>\n",
       "      <th>4</th>\n",
       "      <td>1</td>\n",
       "      <td>Could light bulbs hurt your health? One compan...</td>\n",
       "    </tr>\n",
       "    <tr>\n",
       "      <th>...</th>\n",
       "      <td>...</td>\n",
       "      <td>...</td>\n",
       "    </tr>\n",
       "    <tr>\n",
       "      <th>2454</th>\n",
       "      <td>1</td>\n",
       "      <td>Man who received world's first penis transplan...</td>\n",
       "    </tr>\n",
       "    <tr>\n",
       "      <th>2455</th>\n",
       "      <td>0</td>\n",
       "      <td>RT @NYTSports: Abby didn't start, team couldn'...</td>\n",
       "    </tr>\n",
       "    <tr>\n",
       "      <th>2456</th>\n",
       "      <td>0</td>\n",
       "      <td>Obama defends Affordable Care Act ahead of Sup...</td>\n",
       "    </tr>\n",
       "    <tr>\n",
       "      <th>2457</th>\n",
       "      <td>0</td>\n",
       "      <td>New study of the Deflategate report concludes ...</td>\n",
       "    </tr>\n",
       "    <tr>\n",
       "      <th>2458</th>\n",
       "      <td>0</td>\n",
       "      <td>Netflix secures rights to Brad Pitt Afghanista...</td>\n",
       "    </tr>\n",
       "  </tbody>\n",
       "</table>\n",
       "<p>2459 rows × 2 columns</p>\n",
       "</div>"
      ],
      "text/plain": [
       "      label                                               text\n",
       "0         0  Apple's iOS 9 'App thinning' feature will give...\n",
       "1         0  RT @kenbrown12: Emerging market investors are ...\n",
       "2         1  U.S. Soccer should start answering tough quest...\n",
       "3         0  How theme parks like Disney World left the mid...\n",
       "4         1  Could light bulbs hurt your health? One compan...\n",
       "...     ...                                                ...\n",
       "2454      1  Man who received world's first penis transplan...\n",
       "2455      0  RT @NYTSports: Abby didn't start, team couldn'...\n",
       "2456      0  Obama defends Affordable Care Act ahead of Sup...\n",
       "2457      0  New study of the Deflategate report concludes ...\n",
       "2458      0  Netflix secures rights to Brad Pitt Afghanista...\n",
       "\n",
       "[2459 rows x 2 columns]"
      ]
     },
     "execution_count": 28,
     "metadata": {},
     "output_type": "execute_result"
    }
   ],
   "source": [
    "df"
   ]
  },
  {
   "cell_type": "code",
   "execution_count": 29,
   "metadata": {
    "id": "Px3T_eohXXKC"
   },
   "outputs": [],
   "source": [
    "df[\"all_cleaned\"]=df[\"text\"].apply(clean_text)"
   ]
  },
  {
   "cell_type": "code",
   "execution_count": 30,
   "metadata": {
    "colab": {
     "base_uri": "https://localhost:8080/",
     "height": 424
    },
    "id": "Ueu95tasXXMC",
    "outputId": "257c53ae-4499-4106-acec-99385c1141ac"
   },
   "outputs": [
    {
     "data": {
      "text/html": [
       "<div>\n",
       "<style scoped>\n",
       "    .dataframe tbody tr th:only-of-type {\n",
       "        vertical-align: middle;\n",
       "    }\n",
       "\n",
       "    .dataframe tbody tr th {\n",
       "        vertical-align: top;\n",
       "    }\n",
       "\n",
       "    .dataframe thead th {\n",
       "        text-align: right;\n",
       "    }\n",
       "</style>\n",
       "<table border=\"1\" class=\"dataframe\">\n",
       "  <thead>\n",
       "    <tr style=\"text-align: right;\">\n",
       "      <th></th>\n",
       "      <th>label</th>\n",
       "      <th>text</th>\n",
       "      <th>all_cleaned</th>\n",
       "    </tr>\n",
       "  </thead>\n",
       "  <tbody>\n",
       "    <tr>\n",
       "      <th>0</th>\n",
       "      <td>0</td>\n",
       "      <td>Apple's iOS 9 'App thinning' feature will give...</td>\n",
       "      <td>apple io app thin feature give phone storage b...</td>\n",
       "    </tr>\n",
       "    <tr>\n",
       "      <th>1</th>\n",
       "      <td>0</td>\n",
       "      <td>RT @kenbrown12: Emerging market investors are ...</td>\n",
       "      <td>rt kenbrown emerge market investor best monty ...</td>\n",
       "    </tr>\n",
       "    <tr>\n",
       "      <th>2</th>\n",
       "      <td>1</td>\n",
       "      <td>U.S. Soccer should start answering tough quest...</td>\n",
       "      <td>u soccer start answer tough question hope solo...</td>\n",
       "    </tr>\n",
       "    <tr>\n",
       "      <th>3</th>\n",
       "      <td>0</td>\n",
       "      <td>How theme parks like Disney World left the mid...</td>\n",
       "      <td>theme park like disney world left middle class...</td>\n",
       "    </tr>\n",
       "    <tr>\n",
       "      <th>4</th>\n",
       "      <td>1</td>\n",
       "      <td>Could light bulbs hurt your health? One compan...</td>\n",
       "      <td>could light bulb hurt health one company put w...</td>\n",
       "    </tr>\n",
       "    <tr>\n",
       "      <th>...</th>\n",
       "      <td>...</td>\n",
       "      <td>...</td>\n",
       "      <td>...</td>\n",
       "    </tr>\n",
       "    <tr>\n",
       "      <th>2454</th>\n",
       "      <td>1</td>\n",
       "      <td>Man who received world's first penis transplan...</td>\n",
       "      <td>man receive world first penis transplant becom...</td>\n",
       "    </tr>\n",
       "    <tr>\n",
       "      <th>2455</th>\n",
       "      <td>0</td>\n",
       "      <td>RT @NYTSports: Abby didn't start, team couldn'...</td>\n",
       "      <td>rt nytsports abby do not start team could not ...</td>\n",
       "    </tr>\n",
       "    <tr>\n",
       "      <th>2456</th>\n",
       "      <td>0</td>\n",
       "      <td>Obama defends Affordable Care Act ahead of Sup...</td>\n",
       "      <td>obama defends affordable care act ahead suprem...</td>\n",
       "    </tr>\n",
       "    <tr>\n",
       "      <th>2457</th>\n",
       "      <td>0</td>\n",
       "      <td>New study of the Deflategate report concludes ...</td>\n",
       "      <td>new study deflategate report concludes deeply ...</td>\n",
       "    </tr>\n",
       "    <tr>\n",
       "      <th>2458</th>\n",
       "      <td>0</td>\n",
       "      <td>Netflix secures rights to Brad Pitt Afghanista...</td>\n",
       "      <td>netflix secures right brad pitt afghanistan wa...</td>\n",
       "    </tr>\n",
       "  </tbody>\n",
       "</table>\n",
       "<p>2459 rows × 3 columns</p>\n",
       "</div>"
      ],
      "text/plain": [
       "      label                                               text  \\\n",
       "0         0  Apple's iOS 9 'App thinning' feature will give...   \n",
       "1         0  RT @kenbrown12: Emerging market investors are ...   \n",
       "2         1  U.S. Soccer should start answering tough quest...   \n",
       "3         0  How theme parks like Disney World left the mid...   \n",
       "4         1  Could light bulbs hurt your health? One compan...   \n",
       "...     ...                                                ...   \n",
       "2454      1  Man who received world's first penis transplan...   \n",
       "2455      0  RT @NYTSports: Abby didn't start, team couldn'...   \n",
       "2456      0  Obama defends Affordable Care Act ahead of Sup...   \n",
       "2457      0  New study of the Deflategate report concludes ...   \n",
       "2458      0  Netflix secures rights to Brad Pitt Afghanista...   \n",
       "\n",
       "                                            all_cleaned  \n",
       "0     apple io app thin feature give phone storage b...  \n",
       "1     rt kenbrown emerge market investor best monty ...  \n",
       "2     u soccer start answer tough question hope solo...  \n",
       "3     theme park like disney world left middle class...  \n",
       "4     could light bulb hurt health one company put w...  \n",
       "...                                                 ...  \n",
       "2454  man receive world first penis transplant becom...  \n",
       "2455  rt nytsports abby do not start team could not ...  \n",
       "2456  obama defends affordable care act ahead suprem...  \n",
       "2457  new study deflategate report concludes deeply ...  \n",
       "2458  netflix secures right brad pitt afghanistan wa...  \n",
       "\n",
       "[2459 rows x 3 columns]"
      ]
     },
     "execution_count": 30,
     "metadata": {},
     "output_type": "execute_result"
    }
   ],
   "source": [
    "df"
   ]
  },
  {
   "cell_type": "code",
   "execution_count": 31,
   "metadata": {
    "id": "w2_3spreXXNQ"
   },
   "outputs": [],
   "source": [
    "from sklearn.model_selection import GridSearchCV\n",
    "Cs = [0.001, 0.01, 0.1, 1, 10]\n",
    "tfidf_vect = TfidfVectorizer(stop_words=None, max_features=100000, ngram_range=(1, 3))\n"
   ]
  },
  {
   "cell_type": "code",
   "execution_count": 32,
   "metadata": {
    "id": "Mw7apZcXRJcj"
   },
   "outputs": [],
   "source": [
    "# Data is read from a CSV file, and text cleaning is applied to the \"text\" column.\n",
    "# Grid search is used to find the best parameters for a Support Vector Machine (SVM) model using the TF-IDF representation of the text."
   ]
  },
  {
   "cell_type": "code",
   "execution_count": 33,
   "metadata": {
    "colab": {
     "base_uri": "https://localhost:8080/"
    },
    "id": "COqCyXiVct8Y",
    "outputId": "e384b311-e9af-4b3c-f852-557387551f31"
   },
   "outputs": [
    {
     "data": {
      "text/plain": [
       "{'C': 10, 'gamma': 0.001, 'kernel': 'linear'}"
      ]
     },
     "execution_count": 33,
     "metadata": {},
     "output_type": "execute_result"
    }
   ],
   "source": [
    "X=tfidf_vect.fit_transform(df.text)\n",
    "gammas = [0.001, 0.01, 0.1, 1]\n",
    "param_grid = {'C': Cs, 'gamma' : gammas, 'kernel': ['rbf', 'linear', 'poly']}\n",
    "grid_search = GridSearchCV(SVC(), param_grid, cv=5)\n",
    "grid_search.fit(X, df.label)\n",
    "grid_search.best_params_\n"
   ]
  },
  {
   "cell_type": "code",
   "execution_count": 34,
   "metadata": {
    "id": "b_RiJBtxcCjx"
   },
   "outputs": [],
   "source": [
    "tvec = TfidfVectorizer(stop_words=None, max_features=100000, ngram_range=(1, 3))\n",
    "svc = SVC(C= 10, gamma= 0.001, kernel= 'linear')\n",
    "# svc= SVC()"
   ]
  },
  {
   "cell_type": "code",
   "execution_count": 35,
   "metadata": {
    "id": "Jy5yaRERcCmO"
   },
   "outputs": [],
   "source": [
    "ROS_pipeline = make_pipeline(tvec, RandomOverSampler(random_state=777), svc)\n",
    "SMOTE_pipeline = make_pipeline(tvec, SMOTE(random_state=777), svc)"
   ]
  },
  {
   "cell_type": "code",
   "execution_count": null,
   "metadata": {
    "id": "DGx_DwONRM6c"
   },
   "outputs": [],
   "source": [
    "# Two pipelines are created for oversampling (RandomOverSampler and SMOTE) combined with an SVM classifier.\n",
    "# The SMOTE pipeline is fitted to the training data, and the resulting model is saved using pickle."
   ]
  },
  {
   "cell_type": "code",
   "execution_count": null,
   "metadata": {
    "id": "H9xRToVwRVY3"
   },
   "outputs": [],
   "source": []
  },
  {
   "cell_type": "code",
   "execution_count": 36,
   "metadata": {
    "colab": {
     "base_uri": "https://localhost:8080/",
     "height": 161
    },
    "id": "WNg9UoascCoW",
    "outputId": "d563aee0-d34b-410e-8b3b-383815644408"
   },
   "outputs": [
    {
     "data": {
      "text/html": [
       "<style>#sk-container-id-1 {color: black;}#sk-container-id-1 pre{padding: 0;}#sk-container-id-1 div.sk-toggleable {background-color: white;}#sk-container-id-1 label.sk-toggleable__label {cursor: pointer;display: block;width: 100%;margin-bottom: 0;padding: 0.3em;box-sizing: border-box;text-align: center;}#sk-container-id-1 label.sk-toggleable__label-arrow:before {content: \"▸\";float: left;margin-right: 0.25em;color: #696969;}#sk-container-id-1 label.sk-toggleable__label-arrow:hover:before {color: black;}#sk-container-id-1 div.sk-estimator:hover label.sk-toggleable__label-arrow:before {color: black;}#sk-container-id-1 div.sk-toggleable__content {max-height: 0;max-width: 0;overflow: hidden;text-align: left;background-color: #f0f8ff;}#sk-container-id-1 div.sk-toggleable__content pre {margin: 0.2em;color: black;border-radius: 0.25em;background-color: #f0f8ff;}#sk-container-id-1 input.sk-toggleable__control:checked~div.sk-toggleable__content {max-height: 200px;max-width: 100%;overflow: auto;}#sk-container-id-1 input.sk-toggleable__control:checked~label.sk-toggleable__label-arrow:before {content: \"▾\";}#sk-container-id-1 div.sk-estimator input.sk-toggleable__control:checked~label.sk-toggleable__label {background-color: #d4ebff;}#sk-container-id-1 div.sk-label input.sk-toggleable__control:checked~label.sk-toggleable__label {background-color: #d4ebff;}#sk-container-id-1 input.sk-hidden--visually {border: 0;clip: rect(1px 1px 1px 1px);clip: rect(1px, 1px, 1px, 1px);height: 1px;margin: -1px;overflow: hidden;padding: 0;position: absolute;width: 1px;}#sk-container-id-1 div.sk-estimator {font-family: monospace;background-color: #f0f8ff;border: 1px dotted black;border-radius: 0.25em;box-sizing: border-box;margin-bottom: 0.5em;}#sk-container-id-1 div.sk-estimator:hover {background-color: #d4ebff;}#sk-container-id-1 div.sk-parallel-item::after {content: \"\";width: 100%;border-bottom: 1px solid gray;flex-grow: 1;}#sk-container-id-1 div.sk-label:hover label.sk-toggleable__label {background-color: #d4ebff;}#sk-container-id-1 div.sk-serial::before {content: \"\";position: absolute;border-left: 1px solid gray;box-sizing: border-box;top: 0;bottom: 0;left: 50%;z-index: 0;}#sk-container-id-1 div.sk-serial {display: flex;flex-direction: column;align-items: center;background-color: white;padding-right: 0.2em;padding-left: 0.2em;position: relative;}#sk-container-id-1 div.sk-item {position: relative;z-index: 1;}#sk-container-id-1 div.sk-parallel {display: flex;align-items: stretch;justify-content: center;background-color: white;position: relative;}#sk-container-id-1 div.sk-item::before, #sk-container-id-1 div.sk-parallel-item::before {content: \"\";position: absolute;border-left: 1px solid gray;box-sizing: border-box;top: 0;bottom: 0;left: 50%;z-index: -1;}#sk-container-id-1 div.sk-parallel-item {display: flex;flex-direction: column;z-index: 1;position: relative;background-color: white;}#sk-container-id-1 div.sk-parallel-item:first-child::after {align-self: flex-end;width: 50%;}#sk-container-id-1 div.sk-parallel-item:last-child::after {align-self: flex-start;width: 50%;}#sk-container-id-1 div.sk-parallel-item:only-child::after {width: 0;}#sk-container-id-1 div.sk-dashed-wrapped {border: 1px dashed gray;margin: 0 0.4em 0.5em 0.4em;box-sizing: border-box;padding-bottom: 0.4em;background-color: white;}#sk-container-id-1 div.sk-label label {font-family: monospace;font-weight: bold;display: inline-block;line-height: 1.2em;}#sk-container-id-1 div.sk-label-container {text-align: center;}#sk-container-id-1 div.sk-container {/* jupyter's `normalize.less` sets `[hidden] { display: none; }` but bootstrap.min.css set `[hidden] { display: none !important; }` so we also need the `!important` here to be able to override the default hidden behavior on the sphinx rendered scikit-learn.org. See: https://github.com/scikit-learn/scikit-learn/issues/21755 */display: inline-block !important;position: relative;}#sk-container-id-1 div.sk-text-repr-fallback {display: none;}</style><div id=\"sk-container-id-1\" class=\"sk-top-container\"><div class=\"sk-text-repr-fallback\"><pre>Pipeline(steps=[(&#x27;tfidfvectorizer&#x27;,\n",
       "                 TfidfVectorizer(max_features=100000, ngram_range=(1, 3))),\n",
       "                (&#x27;smote&#x27;, SMOTE(random_state=777)),\n",
       "                (&#x27;svc&#x27;, SVC(C=10, gamma=0.001, kernel=&#x27;linear&#x27;))])</pre><b>In a Jupyter environment, please rerun this cell to show the HTML representation or trust the notebook. <br />On GitHub, the HTML representation is unable to render, please try loading this page with nbviewer.org.</b></div><div class=\"sk-container\" hidden><div class=\"sk-item sk-dashed-wrapped\"><div class=\"sk-label-container\"><div class=\"sk-label sk-toggleable\"><input class=\"sk-toggleable__control sk-hidden--visually\" id=\"sk-estimator-id-1\" type=\"checkbox\" ><label for=\"sk-estimator-id-1\" class=\"sk-toggleable__label sk-toggleable__label-arrow\">Pipeline</label><div class=\"sk-toggleable__content\"><pre>Pipeline(steps=[(&#x27;tfidfvectorizer&#x27;,\n",
       "                 TfidfVectorizer(max_features=100000, ngram_range=(1, 3))),\n",
       "                (&#x27;smote&#x27;, SMOTE(random_state=777)),\n",
       "                (&#x27;svc&#x27;, SVC(C=10, gamma=0.001, kernel=&#x27;linear&#x27;))])</pre></div></div></div><div class=\"sk-serial\"><div class=\"sk-item\"><div class=\"sk-estimator sk-toggleable\"><input class=\"sk-toggleable__control sk-hidden--visually\" id=\"sk-estimator-id-2\" type=\"checkbox\" ><label for=\"sk-estimator-id-2\" class=\"sk-toggleable__label sk-toggleable__label-arrow\">TfidfVectorizer</label><div class=\"sk-toggleable__content\"><pre>TfidfVectorizer(max_features=100000, ngram_range=(1, 3))</pre></div></div></div><div class=\"sk-item\"><div class=\"sk-estimator sk-toggleable\"><input class=\"sk-toggleable__control sk-hidden--visually\" id=\"sk-estimator-id-3\" type=\"checkbox\" ><label for=\"sk-estimator-id-3\" class=\"sk-toggleable__label sk-toggleable__label-arrow\">SMOTE</label><div class=\"sk-toggleable__content\"><pre>SMOTE(random_state=777)</pre></div></div></div><div class=\"sk-item\"><div class=\"sk-estimator sk-toggleable\"><input class=\"sk-toggleable__control sk-hidden--visually\" id=\"sk-estimator-id-4\" type=\"checkbox\" ><label for=\"sk-estimator-id-4\" class=\"sk-toggleable__label sk-toggleable__label-arrow\">SVC</label><div class=\"sk-toggleable__content\"><pre>SVC(C=10, gamma=0.001, kernel=&#x27;linear&#x27;)</pre></div></div></div></div></div></div></div>"
      ],
      "text/plain": [
       "Pipeline(steps=[('tfidfvectorizer',\n",
       "                 TfidfVectorizer(max_features=100000, ngram_range=(1, 3))),\n",
       "                ('smote', SMOTE(random_state=777)),\n",
       "                ('svc', SVC(C=10, gamma=0.001, kernel='linear'))])"
      ]
     },
     "execution_count": 36,
     "metadata": {},
     "output_type": "execute_result"
    }
   ],
   "source": [
    "SMOTE_pipeline.fit(df.text, df.label)"
   ]
  },
  {
   "cell_type": "code",
   "execution_count": 37,
   "metadata": {
    "id": "Uuo1EW2UcCq-"
   },
   "outputs": [],
   "source": [
    "pickle.dump(SMOTE_pipeline, open(\"model_clickbait_final2.sav\", 'wb'))\n",
    "loaded_model = pickle.load(open(\"model_clickbait_final2.sav\", 'rb'))"
   ]
  },
  {
   "cell_type": "code",
   "execution_count": 38,
   "metadata": {
    "id": "P6hKbt48XXPD"
   },
   "outputs": [],
   "source": [
    "def evaluate_clickbait_pip(pipeline, tdf):\n",
    "  print(\"Score: \",pipeline.score(tdf.text, tdf.label))\n",
    "  y_pred=pipeline.predict(tdf.text)\n",
    "  print(confusion_matrix(tdf.label , y_pred))\n",
    "  print(classification_report(tdf.label, y_pred))\n",
    "def predict_clickbait(pipeline, tdf):\n",
    "  out={0:\"Non-Clickbait\", 1:\"Clickbait\"}\n",
    "  pred=out[pipeline.predict(tdf.text)[0]]\n",
    "  print(\"The article is \", pred)\n"
   ]
  },
  {
   "cell_type": "code",
   "execution_count": null,
   "metadata": {
    "id": "0tsyqU3yRWLn"
   },
   "outputs": [],
   "source": [
    "# Two functions, evaluate_clickbait_pip and predict_clickbait, are defined for evaluating the model and making predictions."
   ]
  },
  {
   "cell_type": "code",
   "execution_count": null,
   "metadata": {
    "id": "2JMFy09ORa-q"
   },
   "outputs": [],
   "source": [
    "# Test data is read, text cleaning is applied, and the evaluate_clickbait_pip function is called to assess the model's performance on the test data."
   ]
  },
  {
   "cell_type": "code",
   "execution_count": 39,
   "metadata": {
    "id": "gYz3EeYjfdd2"
   },
   "outputs": [],
   "source": [
    "tdf = pd.read_csv(\"Clickbait_testing.csv\")"
   ]
  },
  {
   "cell_type": "code",
   "execution_count": 40,
   "metadata": {
    "colab": {
     "base_uri": "https://localhost:8080/",
     "height": 424
    },
    "id": "Niw1D4t0fdgF",
    "outputId": "ba465c47-69d7-44b4-d264-8bb1d69fac29"
   },
   "outputs": [
    {
     "data": {
      "text/html": [
       "<div>\n",
       "<style scoped>\n",
       "    .dataframe tbody tr th:only-of-type {\n",
       "        vertical-align: middle;\n",
       "    }\n",
       "\n",
       "    .dataframe tbody tr th {\n",
       "        vertical-align: top;\n",
       "    }\n",
       "\n",
       "    .dataframe thead th {\n",
       "        text-align: right;\n",
       "    }\n",
       "</style>\n",
       "<table border=\"1\" class=\"dataframe\">\n",
       "  <thead>\n",
       "    <tr style=\"text-align: right;\">\n",
       "      <th></th>\n",
       "      <th>label</th>\n",
       "      <th>text</th>\n",
       "    </tr>\n",
       "  </thead>\n",
       "  <tbody>\n",
       "    <tr>\n",
       "      <th>0</th>\n",
       "      <td>1</td>\n",
       "      <td>\"Uncover the hidden secrets to eternal happine...</td>\n",
       "    </tr>\n",
       "    <tr>\n",
       "      <th>1</th>\n",
       "      <td>1</td>\n",
       "      <td>\"These mind-blowing weight loss hacks will tra...</td>\n",
       "    </tr>\n",
       "    <tr>\n",
       "      <th>2</th>\n",
       "      <td>1</td>\n",
       "      <td>\"The shocking truth about celebrities' secret ...</td>\n",
       "    </tr>\n",
       "    <tr>\n",
       "      <th>3</th>\n",
       "      <td>1</td>\n",
       "      <td>\"Discover the amazing power of positive thinki...</td>\n",
       "    </tr>\n",
       "    <tr>\n",
       "      <th>4</th>\n",
       "      <td>1</td>\n",
       "      <td>\"You won't believe these money-making strategi...</td>\n",
       "    </tr>\n",
       "    <tr>\n",
       "      <th>...</th>\n",
       "      <td>...</td>\n",
       "      <td>...</td>\n",
       "    </tr>\n",
       "    <tr>\n",
       "      <th>194</th>\n",
       "      <td>0</td>\n",
       "      <td>\"The role of education in promoting environmen...</td>\n",
       "    </tr>\n",
       "    <tr>\n",
       "      <th>195</th>\n",
       "      <td>0</td>\n",
       "      <td>\"Analyzing the impact of social media on commu...</td>\n",
       "    </tr>\n",
       "    <tr>\n",
       "      <th>196</th>\n",
       "      <td>0</td>\n",
       "      <td>\"Tips for effective time management for entrep...</td>\n",
       "    </tr>\n",
       "    <tr>\n",
       "      <th>197</th>\n",
       "      <td>0</td>\n",
       "      <td>\"A comprehensive guide to understanding princi...</td>\n",
       "    </tr>\n",
       "    <tr>\n",
       "      <th>198</th>\n",
       "      <td>0</td>\n",
       "      <td>\"The significance of renewable energy sources ...</td>\n",
       "    </tr>\n",
       "  </tbody>\n",
       "</table>\n",
       "<p>199 rows × 2 columns</p>\n",
       "</div>"
      ],
      "text/plain": [
       "     label                                               text\n",
       "0        1  \"Uncover the hidden secrets to eternal happine...\n",
       "1        1  \"These mind-blowing weight loss hacks will tra...\n",
       "2        1  \"The shocking truth about celebrities' secret ...\n",
       "3        1  \"Discover the amazing power of positive thinki...\n",
       "4        1  \"You won't believe these money-making strategi...\n",
       "..     ...                                                ...\n",
       "194      0  \"The role of education in promoting environmen...\n",
       "195      0  \"Analyzing the impact of social media on commu...\n",
       "196      0  \"Tips for effective time management for entrep...\n",
       "197      0  \"A comprehensive guide to understanding princi...\n",
       "198      0  \"The significance of renewable energy sources ...\n",
       "\n",
       "[199 rows x 2 columns]"
      ]
     },
     "execution_count": 40,
     "metadata": {},
     "output_type": "execute_result"
    }
   ],
   "source": [
    "tdf"
   ]
  },
  {
   "cell_type": "code",
   "execution_count": 41,
   "metadata": {
    "id": "36fu4uNRfdh_"
   },
   "outputs": [],
   "source": [
    "tdf[\"all_cleaned\"]=tdf[\"text\"].apply(clean_text)\n"
   ]
  },
  {
   "cell_type": "code",
   "execution_count": 42,
   "metadata": {
    "colab": {
     "base_uri": "https://localhost:8080/",
     "height": 424
    },
    "id": "JliazgG1iDNX",
    "outputId": "6d046ae0-f72f-4ecc-c197-825657088dd7"
   },
   "outputs": [
    {
     "data": {
      "text/html": [
       "<div>\n",
       "<style scoped>\n",
       "    .dataframe tbody tr th:only-of-type {\n",
       "        vertical-align: middle;\n",
       "    }\n",
       "\n",
       "    .dataframe tbody tr th {\n",
       "        vertical-align: top;\n",
       "    }\n",
       "\n",
       "    .dataframe thead th {\n",
       "        text-align: right;\n",
       "    }\n",
       "</style>\n",
       "<table border=\"1\" class=\"dataframe\">\n",
       "  <thead>\n",
       "    <tr style=\"text-align: right;\">\n",
       "      <th></th>\n",
       "      <th>label</th>\n",
       "      <th>text</th>\n",
       "      <th>all_cleaned</th>\n",
       "    </tr>\n",
       "  </thead>\n",
       "  <tbody>\n",
       "    <tr>\n",
       "      <th>0</th>\n",
       "      <td>1</td>\n",
       "      <td>\"Uncover the hidden secrets to eternal happine...</td>\n",
       "      <td>uncover hidden secret eternal happiness will n...</td>\n",
       "    </tr>\n",
       "    <tr>\n",
       "      <th>1</th>\n",
       "      <td>1</td>\n",
       "      <td>\"These mind-blowing weight loss hacks will tra...</td>\n",
       "      <td>mindblowing weight loss hack transform life se...</td>\n",
       "    </tr>\n",
       "    <tr>\n",
       "      <th>2</th>\n",
       "      <td>1</td>\n",
       "      <td>\"The shocking truth about celebrities' secret ...</td>\n",
       "      <td>shock truth celebrity secret life reveal mustread</td>\n",
       "    </tr>\n",
       "    <tr>\n",
       "      <th>3</th>\n",
       "      <td>1</td>\n",
       "      <td>\"Discover the amazing power of positive thinki...</td>\n",
       "      <td>discover amaze power positive think success li...</td>\n",
       "    </tr>\n",
       "    <tr>\n",
       "      <th>4</th>\n",
       "      <td>1</td>\n",
       "      <td>\"You won't believe these money-making strategi...</td>\n",
       "      <td>will not believe moneymaking strategy actually...</td>\n",
       "    </tr>\n",
       "    <tr>\n",
       "      <th>...</th>\n",
       "      <td>...</td>\n",
       "      <td>...</td>\n",
       "      <td>...</td>\n",
       "    </tr>\n",
       "    <tr>\n",
       "      <th>194</th>\n",
       "      <td>0</td>\n",
       "      <td>\"The role of education in promoting environmen...</td>\n",
       "      <td>role education promote environmental conservation</td>\n",
       "    </tr>\n",
       "    <tr>\n",
       "      <th>195</th>\n",
       "      <td>0</td>\n",
       "      <td>\"Analyzing the impact of social media on commu...</td>\n",
       "      <td>analyze impact social medium community engagement</td>\n",
       "    </tr>\n",
       "    <tr>\n",
       "      <th>196</th>\n",
       "      <td>0</td>\n",
       "      <td>\"Tips for effective time management for entrep...</td>\n",
       "      <td>tip effective time management entrepreneur bus...</td>\n",
       "    </tr>\n",
       "    <tr>\n",
       "      <th>197</th>\n",
       "      <td>0</td>\n",
       "      <td>\"A comprehensive guide to understanding princi...</td>\n",
       "      <td>comprehensive guide understand principle human...</td>\n",
       "    </tr>\n",
       "    <tr>\n",
       "      <th>198</th>\n",
       "      <td>0</td>\n",
       "      <td>\"The significance of renewable energy sources ...</td>\n",
       "      <td>significance renewable energy source address g...</td>\n",
       "    </tr>\n",
       "  </tbody>\n",
       "</table>\n",
       "<p>199 rows × 3 columns</p>\n",
       "</div>"
      ],
      "text/plain": [
       "     label                                               text  \\\n",
       "0        1  \"Uncover the hidden secrets to eternal happine...   \n",
       "1        1  \"These mind-blowing weight loss hacks will tra...   \n",
       "2        1  \"The shocking truth about celebrities' secret ...   \n",
       "3        1  \"Discover the amazing power of positive thinki...   \n",
       "4        1  \"You won't believe these money-making strategi...   \n",
       "..     ...                                                ...   \n",
       "194      0  \"The role of education in promoting environmen...   \n",
       "195      0  \"Analyzing the impact of social media on commu...   \n",
       "196      0  \"Tips for effective time management for entrep...   \n",
       "197      0  \"A comprehensive guide to understanding princi...   \n",
       "198      0  \"The significance of renewable energy sources ...   \n",
       "\n",
       "                                           all_cleaned  \n",
       "0    uncover hidden secret eternal happiness will n...  \n",
       "1    mindblowing weight loss hack transform life se...  \n",
       "2    shock truth celebrity secret life reveal mustread  \n",
       "3    discover amaze power positive think success li...  \n",
       "4    will not believe moneymaking strategy actually...  \n",
       "..                                                 ...  \n",
       "194  role education promote environmental conservation  \n",
       "195  analyze impact social medium community engagement  \n",
       "196  tip effective time management entrepreneur bus...  \n",
       "197  comprehensive guide understand principle human...  \n",
       "198  significance renewable energy source address g...  \n",
       "\n",
       "[199 rows x 3 columns]"
      ]
     },
     "execution_count": 42,
     "metadata": {},
     "output_type": "execute_result"
    }
   ],
   "source": [
    "tdf"
   ]
  },
  {
   "cell_type": "code",
   "execution_count": 43,
   "metadata": {
    "colab": {
     "base_uri": "https://localhost:8080/"
    },
    "id": "Iywx_1K4iDPe",
    "outputId": "6895adb0-a006-46f7-e450-d3a1253e50e6"
   },
   "outputs": [
    {
     "name": "stdout",
     "output_type": "stream",
     "text": [
      "Score:  0.8844221105527639\n",
      "[[93  7]\n",
      " [16 83]]\n",
      "              precision    recall  f1-score   support\n",
      "\n",
      "           0       0.85      0.93      0.89       100\n",
      "           1       0.92      0.84      0.88        99\n",
      "\n",
      "    accuracy                           0.88       199\n",
      "   macro avg       0.89      0.88      0.88       199\n",
      "weighted avg       0.89      0.88      0.88       199\n",
      "\n"
     ]
    }
   ],
   "source": [
    "evaluate_clickbait_pip(SMOTE_pipeline, tdf )"
   ]
  }
 ],
 "metadata": {
  "colab": {
   "provenance": []
  },
  "kernelspec": {
   "display_name": "Python 3 (ipykernel)",
   "language": "python",
   "name": "python3"
  },
  "language_info": {
   "codemirror_mode": {
    "name": "ipython",
    "version": 3
   },
   "file_extension": ".py",
   "mimetype": "text/x-python",
   "name": "python",
   "nbconvert_exporter": "python",
   "pygments_lexer": "ipython3",
   "version": "3.11.4"
  }
 },
 "nbformat": 4,
 "nbformat_minor": 1
}
